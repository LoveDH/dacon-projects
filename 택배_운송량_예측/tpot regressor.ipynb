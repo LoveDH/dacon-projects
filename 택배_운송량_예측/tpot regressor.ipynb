{
 "cells": [
  {
   "cell_type": "code",
   "execution_count": 1,
   "metadata": {},
   "outputs": [],
   "source": [
    "import pandas as pd\n",
    "\n",
    "train = pd.read_csv('data/train.csv')\n",
    "test = pd.read_csv('data/test.csv')\n",
    "\n",
    "submission = pd.read_csv('data/sample_submission.csv')"
   ]
  },
  {
   "cell_type": "code",
   "execution_count": 2,
   "metadata": {},
   "outputs": [],
   "source": [
    "# 원핫 인코딩\n",
    "train_one = pd.get_dummies(train)\n",
    "test_one = pd.get_dummies(test)\n",
    "train_data, train_target = train_one.drop('INVC_CONT',axis=1), train_one['INVC_CONT']"
   ]
  },
  {
   "cell_type": "code",
   "execution_count": 3,
   "metadata": {},
   "outputs": [],
   "source": [
    "from tpot import TPOTRegressor\n",
    "\n",
    "tpot_params = dict({\n",
    "    'generations':10,\n",
    "    'population_size':100,\n",
    "    'subsample':1,\n",
    "    'verbosity':2,\n",
    "    'random_state':42,\n",
    "    'n_jobs':-1,\n",
    "    'early_stop':100,\n",
    "    'use_dask':True,\n",
    "    'warm_start':True,\n",
    "    'memory':'auto',\n",
    "    'periodic_checkpoint_folder':'./tpot_checkpoint/'\n",
    "})"
   ]
  },
  {
   "cell_type": "code",
   "execution_count": 4,
   "metadata": {},
   "outputs": [
    {
     "name": "stdout",
     "output_type": "stream",
     "text": [
      "\n",
      "Generation 1 - Current best internal CV score: -30.221347188203964\n",
      "\n",
      "Generation 2 - Current best internal CV score: -29.152448076062747\n",
      "\n",
      "Generation 3 - Current best internal CV score: -29.152448076062747\n",
      "\n",
      "Generation 4 - Current best internal CV score: -29.152448076062747\n",
      "\n",
      "Generation 5 - Current best internal CV score: -29.152448076062747\n",
      "\n",
      "Generation 6 - Current best internal CV score: -29.01344328442915\n",
      "\n",
      "Best pipeline: XGBRegressor(SelectFwe(input_matrix, alpha=0.042), learning_rate=0.1, max_depth=4, min_child_weight=10, n_estimators=100, n_jobs=1, objective=reg:squarederror, subsample=0.5, verbosity=0)\n",
      "\n",
      "Generation 1 - Current best internal CV score: -29.01344328442915\n",
      "\n",
      "Generation 2 - Current best internal CV score: -29.00447709733575\n",
      "\n",
      "Generation 3 - Current best internal CV score: -29.00447709733575\n",
      "\n",
      "Generation 4 - Current best internal CV score: -29.00447709733575\n",
      "Optimization Progress:  49%|████▉     | 542/1100 [59:17<1:10:10,  7.54s/pipeline]"
     ]
    }
   ],
   "source": [
    "tpot = TPOTRegressor(**tpot_params)\n",
    "for i in range(100):\n",
    "    tpot.fit(train_data, train_target)\n",
    "    tpot.export(f'tpot_pipeline_new_{i}.py')\n",
    "    results = tpot.predict(test_one)\n",
    "    submission['INVC_CONT'] = results\n",
    "    submission.to_csv(f'submission/autosk_v{i}.csv', index=False)"
   ]
  }
 ],
 "metadata": {
  "interpreter": {
   "hash": "c7c4d37e4d72694a7a4def0d8b6e499e7912a50a7423218e006a8918d0095cd0"
  },
  "kernelspec": {
   "display_name": "Python 3.9.0 64-bit ('automl': venv)",
   "name": "python3"
  },
  "language_info": {
   "codemirror_mode": {
    "name": "ipython",
    "version": 3
   },
   "file_extension": ".py",
   "mimetype": "text/x-python",
   "name": "python",
   "nbconvert_exporter": "python",
   "pygments_lexer": "ipython3",
   "version": "3.9.0"
  },
  "orig_nbformat": 4
 },
 "nbformat": 4,
 "nbformat_minor": 2
}
