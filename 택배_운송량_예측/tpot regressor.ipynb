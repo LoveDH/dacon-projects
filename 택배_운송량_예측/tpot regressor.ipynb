{
 "cells": [
  {
   "cell_type": "code",
   "execution_count": 1,
   "metadata": {},
   "outputs": [],
   "source": [
    "import pandas as pd\n",
    "\n",
    "train = pd.read_csv('data/train.csv')\n",
    "test = pd.read_csv('data/test.csv')\n",
    "\n",
    "submission = pd.read_csv('data/sample_submission.csv')"
   ]
  },
  {
   "cell_type": "code",
   "execution_count": 2,
   "metadata": {},
   "outputs": [],
   "source": [
    "# 원핫 인코딩\n",
    "train_one = pd.get_dummies(train)\n",
    "test_one = pd.get_dummies(test)\n",
    "train_data, train_target = train_one.drop(['index', 'INVC_CONT'],axis=1), train_one['INVC_CONT']\n",
    "test_data = test_one.drop(['index'],axis=1)"
   ]
  },
  {
   "cell_type": "code",
   "execution_count": 3,
   "metadata": {},
   "outputs": [],
   "source": [
    "train_data['SEND_CODE'] = train_data['SEND_SPG_INNB'].apply(lambda x: str(x)[:5])\n",
    "train_data['REC_CODE'] = train_data['REC_SPG_INNB'].apply(lambda x: str(x)[:5])\n",
    "\n",
    "test_data['SEND_CODE'] = test_data['SEND_SPG_INNB'].apply(lambda x: str(x)[:5])\n",
    "test_data['REC_CODE'] = test_data['REC_SPG_INNB'].apply(lambda x: str(x)[:5])\n",
    "\n",
    "train_data.drop(['SEND_SPG_INNB','REC_SPG_INNB'], axis=1, inplace=True)\n",
    "test_data.drop(['SEND_SPG_INNB','REC_SPG_INNB'], axis=1, inplace=True)"
   ]
  },
  {
   "cell_type": "code",
   "execution_count": 4,
   "metadata": {},
   "outputs": [],
   "source": [
    "from tpot import TPOTRegressor\n",
    "\n",
    "tpot_params = dict({\n",
    "    'generations':10,\n",
    "    'population_size':100,\n",
    "    'subsample':1,\n",
    "    'verbosity':2,\n",
    "    'random_state':42,\n",
    "    'n_jobs':-1,\n",
    "    'early_stop':100,\n",
    "    'use_dask':True,\n",
    "    'warm_start':True,\n",
    "    'memory':'auto',\n",
    "    'periodic_checkpoint_folder':'./tpot_checkpoint/'\n",
    "})"
   ]
  },
  {
   "cell_type": "code",
   "execution_count": 5,
   "metadata": {},
   "outputs": [
    {
     "name": "stdout",
     "output_type": "stream",
     "text": [
      "\n",
      "Generation 1 - Current best internal CV score: -29.194453074268644\n",
      "\n",
      "Generation 2 - Current best internal CV score: -28.933637223071656\n",
      "\n",
      "Generation 3 - Current best internal CV score: -28.933538551446627\n",
      "Optimization Progress:  36%|███▋      | 401/1100 [1:21:00<5:03:28, 26.05s/pipeline]"
     ]
    }
   ],
   "source": [
    "tpot = TPOTRegressor(**tpot_params)\n",
    "for i in range(100):\n",
    "    tpot.fit(train_data, train_target)\n",
    "    tpot.export(f'tpot_best_pareto/tpot_pipeline_new_{i}.py')\n",
    "    results = tpot.predict(test_one)\n",
    "    submission['INVC_CONT'] = results\n",
    "    submission.to_csv(f'submission/autosk_v{i}.csv', index=False)"
   ]
  }
 ],
 "metadata": {
  "interpreter": {
   "hash": "c7c4d37e4d72694a7a4def0d8b6e499e7912a50a7423218e006a8918d0095cd0"
  },
  "kernelspec": {
   "display_name": "Python 3.9.0 64-bit ('automl': venv)",
   "name": "python3"
  },
  "language_info": {
   "codemirror_mode": {
    "name": "ipython",
    "version": 3
   },
   "file_extension": ".py",
   "mimetype": "text/x-python",
   "name": "python",
   "nbconvert_exporter": "python",
   "pygments_lexer": "ipython3",
   "version": "3.9.5"
  },
  "orig_nbformat": 4
 },
 "nbformat": 4,
 "nbformat_minor": 2
}
