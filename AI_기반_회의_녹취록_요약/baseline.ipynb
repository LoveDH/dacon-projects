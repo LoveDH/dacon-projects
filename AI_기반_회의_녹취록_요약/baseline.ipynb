{
 "cells": [
  {
   "cell_type": "code",
   "execution_count": null,
   "source": [
    "import pandas as pd\r\n",
    "import numpy as np\r\n",
    "import matplotlib.pyplot as plt\r\n",
    "import json\r\n",
    "import os\r\n",
    "import random\r\n",
    "import math\r\n",
    "import copy\r\n",
    "import gc\r\n",
    "from tqdm import tqdm\r\n",
    "from glob import glob\r\n",
    "from konlpy.tag import Mecab\r\n",
    "\r\n",
    "import torch\r\n",
    "from torch import nn\r\n",
    "from torch.utils.data import Dataset, DataLoader\r\n",
    "\r\n",
    "import warnings\r\n",
    "warnings.filterwarnings(action='ignore')"
   ],
   "outputs": [],
   "metadata": {}
  }
 ],
 "metadata": {
  "orig_nbformat": 4,
  "language_info": {
   "name": "python"
  }
 },
 "nbformat": 4,
 "nbformat_minor": 2
}