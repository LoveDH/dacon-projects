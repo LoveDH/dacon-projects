{
 "cells": [
  {
   "cell_type": "code",
   "execution_count": 1,
   "id": "3890f57d-1fc2-493a-9031-ea1df265b1e0",
   "metadata": {},
   "outputs": [],
   "source": [
    "import pandas as pd\n",
    "import numpy as np\n",
    "\n",
    "from sklearn.linear_model import ARDRegression\n",
    "from sklearn.ensemble import AdaBoostRegressor, RandomForestRegressor, ExtraTreesRegressor\n",
    "from sklearn.model_selection import KFold\n",
    "from sklearn.metrics import mean_absolute_error, mean_absolute_percentage_error\n",
    "from sklearn.preprocessing import StandardScaler\n",
    "\n",
    "from tqdm import tqdm"
   ]
  },
  {
   "cell_type": "code",
   "execution_count": 2,
   "id": "94068ea6-f5eb-4871-8985-c0d14c47c19f",
   "metadata": {},
   "outputs": [],
   "source": [
    "train = pd.read_csv('./data/train.csv')\n",
    "test = pd.read_csv('./data/test.csv')\n",
    "age = pd.read_csv('./data/age_gender_info.csv')\n",
    "submission = pd.read_csv('./data/sample_submission.csv')"
   ]
  },
  {
   "cell_type": "code",
   "execution_count": 3,
   "id": "c0753cd7-00b2-4a51-8961-611180d8d740",
   "metadata": {},
   "outputs": [],
   "source": [
    "train.columns = [\n",
    "    '단지코드', '총세대수', '임대건물구분', '지역', '공급유형', '전용면적', '전용면적별세대수', '공가수', '신분',\n",
    "    '임대보증금', '임대료', '지하철', '버스',\n",
    "    '단지내주차면수', '등록차량수'\n",
    "]\n",
    "\n",
    "test.columns = [\n",
    "    '단지코드', '총세대수', '임대건물구분', '지역', '공급유형', '전용면적', '전용면적별세대수', '공가수', '신분',\n",
    "    '임대보증금', '임대료', '지하철', '버스',\n",
    "    '단지내주차면수'\n",
    "]"
   ]
  },
  {
   "cell_type": "code",
   "execution_count": 4,
   "id": "d3261ef5-5a95-4bbc-b196-7c4eca777f0e",
   "metadata": {},
   "outputs": [],
   "source": [
    "local_map = {}\n",
    "for i, loc in enumerate(train['지역'].unique()):\n",
    "    local_map[loc] = i\n",
    "\n",
    "for df in [train, test, age]:\n",
    "    df['지역'] = df['지역'].map(local_map)"
   ]
  },
  {
   "cell_type": "code",
   "execution_count": 5,
   "id": "99c08f3d-a714-4f89-b322-93e2ac854722",
   "metadata": {},
   "outputs": [],
   "source": [
    "# 인구 정보\n",
    "# drop_cols = list(age.columns)[1:]\n",
    "# age['0세이상20세미만'] = age[['10대미만(여자)','10대미만(남자)','10대(여자)','10대(남자)']].sum(axis=1)\n",
    "# age['20세이상60세미만'] = age[['20대(여자)','20대(남자)','30대(여자)','30대(남자)','40대(여자)','40대(남자)','50대(여자)','50대(남자)']].sum(axis=1)\n",
    "# age['60세이상'] = age[['60대(여자)','60대(남자)','70대(여자)','70대(남자)','80대(여자)','80대(남자)','90대(여자)','90대(남자)','100대(여자)','100대(남자)']].sum(axis=1)\n",
    "# age.drop(drop_cols, axis=1, inplace=True)"
   ]
  },
  {
   "cell_type": "code",
   "execution_count": 6,
   "id": "840c5828-9af7-4d68-b896-1d0973afe5ac",
   "metadata": {},
   "outputs": [],
   "source": [
    "# gender, age 정보 통합\n",
    "# train = train.merge(age, on='지역')\n",
    "# test = test.merge(age, on='지역')\n",
    "\n",
    "# 전용면적 범주화\n",
    "train['전용면적'] = train['전용면적']//5*5\n",
    "test['전용면적'] = test['전용면적']//5*5\n",
    "\n",
    "idx = train[train['전용면적']>100].index\n",
    "train.loc[idx, '전용면적'] = 100\n",
    "idx = train[train['전용면적']<15].index\n",
    "train.loc[idx, '전용면적'] = 15\n",
    "\n",
    "idx = test[test['전용면적']>100].index\n",
    "test.loc[idx, '전용면적'] = 100\n",
    "idx = test[test['전용면적']<15].index\n",
    "test.loc[idx, '전용면적'] = 15\n",
    "\n",
    "# 가구당 할당 주차면수\n",
    "train['가구당할당주차면수'] = train['단지내주차면수'] / train['총세대수']\n",
    "test['가구당할당주차면수'] = test['단지내주차면수'] / test['총세대수']\n",
    "\n",
    "# 공가율\n",
    "train['공가율'] = train['공가수'] / train['총세대수']\n",
    "test['공가율'] = test['공가수'] / test['총세대수']\n",
    "\n",
    "# 임대보증금 & 임대료\n",
    "train.loc[train.임대보증금=='-', '임대보증금'] = np.nan\n",
    "test.loc[test.임대보증금=='-', '임대보증금'] = np.nan\n",
    "train['임대보증금'] = train['임대보증금'].astype(float)\n",
    "test['임대보증금'] = test['임대보증금'].astype(float)\n",
    "\n",
    "train.loc[train.임대료=='-', '임대료'] = np.nan\n",
    "test.loc[test.임대료=='-', '임대료'] = np.nan\n",
    "train['임대료'] = train['임대료'].astype(float)\n",
    "test['임대료'] = test['임대료'].astype(float)\n",
    "\n",
    "train[['임대보증금', '임대료']] = train[['임대보증금', '임대료']].fillna(0)\n",
    "test[['임대보증금', '임대료']] = test[['임대보증금', '임대료']].fillna(0)\n",
    "\n",
    "# 지하철 & 버스\n",
    "train[['지하철','버스']] = train[['지하철', '버스']].fillna(0)\n",
    "test[['지하철','버스']] = test[['지하철','버스']].fillna(0)\n",
    "\n",
    "# 신분\n",
    "test.loc[(test.신분.isnull()) & (test.단지코드 == \"C2411\"), '신분'] = 'A'\n",
    "test.loc[(test.신분.isnull()) & (test.단지코드 == \"C2253\"), '신분'] = 'C'\n",
    "\n",
    "# 공급유형\n",
    "train.loc[train.공급유형.isin(['공공임대(5년)', '공공분양', '공공임대(10년)', '공공임대(분납)']), '공급유형'] = '공공임대(5년/10년/분납/분양)'\n",
    "test.loc[test.공급유형.isin(['공공임대(5년)', '공공분양', '공공임대(10년)', '공공임대(분납)']), '공급유형'] = '공공임대(5년/10년/분납/분양)'\n",
    "train.loc[train.공급유형.isin(['장기전세', '국민임대']), '공급유형'] = '국민임대/장기전세'\n",
    "test.loc[test.공급유형.isin(['장기전세', '국민임대']), '공급유형'] = '국민임대/장기전세'"
   ]
  },
  {
   "cell_type": "code",
   "execution_count": 7,
   "id": "1dbd4860-151e-4f34-9dad-cfcea8d0c09f",
   "metadata": {},
   "outputs": [],
   "source": [
    "columns = ['단지코드', '총세대수', '공가수', '지역', '단지내주차면수', '지하철', '버스', '가구당할당주차면수', '공가율']\n",
    "#           '0세이상20세미만', '20세이상60세미만', '60세이상']\n",
    "target = '등록차량수'\n",
    "\n",
    "area_columns = []\n",
    "for area in train['전용면적'].unique():\n",
    "    area_columns.append(f'면적_{area}')\n",
    "     \n",
    "quali_columns = []\n",
    "for ql in train['신분'].unique():\n",
    "    quali_columns.append(f'{ql}_가구수')\n",
    "    \n",
    "type_columns = []\n",
    "for tp in train['공급유형'].unique():\n",
    "    type_columns.append(f'{tp}_가구수')"
   ]
  },
  {
   "cell_type": "code",
   "execution_count": 8,
   "id": "2638707a-3316-4a48-ab70-b10b30edf230",
   "metadata": {},
   "outputs": [],
   "source": [
    "new_train = pd.DataFrame()\n",
    "new_test = pd.DataFrame()"
   ]
  },
  {
   "cell_type": "code",
   "execution_count": 9,
   "id": "4341b695-60c3-4f26-9a4b-1c99f779cf02",
   "metadata": {
    "scrolled": true
   },
   "outputs": [
    {
     "name": "stderr",
     "output_type": "stream",
     "text": [
      "423it [00:15, 27.35it/s]\n",
      "150it [00:05, 26.78it/s]\n"
     ]
    }
   ],
   "source": [
    "# 단지코드 별 통합\n",
    "\n",
    "for i, code in tqdm(enumerate(train['단지코드'].unique())):\n",
    "    temp = train[train['단지코드']==code]\n",
    "    temp.index = range(temp.shape[0])\n",
    "    for col in columns:\n",
    "        new_train.loc[i, col] = temp.loc[0, col]\n",
    "    \n",
    "    for col in area_columns:\n",
    "        area = float(col.split('_')[-1])\n",
    "        new_train.loc[i, col] = temp[temp['전용면적']==area]['전용면적별세대수'].sum()\n",
    "    \n",
    "    for col in quali_columns:\n",
    "        qual = col.split('_')[0]\n",
    "        new_train.loc[i, col] = temp[temp['신분']==qual]['전용면적별세대수'].sum()\n",
    "        \n",
    "    for col in type_columns:\n",
    "        tp = col.split('_')[0]\n",
    "        new_train.loc[i, col] = temp[temp['공급유형']==tp]['전용면적별세대수'].sum()\n",
    "        \n",
    "    new_train.loc[i,'총임대가구수'] = temp['전용면적별세대수'].sum()\n",
    "    new_train.loc[i,'임대보증금(가중)'] = int(((temp['전용면적별세대수']/new_train.loc[i,'총임대가구수'])*temp['임대보증금']).sum())\n",
    "    new_train.loc[i,'임대료(가중)'] = int(((temp['전용면적별세대수']/new_train.loc[i,'총임대가구수'])*temp['임대료']).sum())\n",
    "    new_train.loc[i, target] = temp.loc[0, target]\n",
    "    \n",
    "for i, code in tqdm(enumerate(test['단지코드'].unique())):\n",
    "    temp = test[test['단지코드']==code]\n",
    "    temp.index = range(temp.shape[0])\n",
    "    for col in columns:\n",
    "        new_test.loc[i, col] = temp.loc[0, col]\n",
    "    \n",
    "    for col in area_columns:\n",
    "        area = float(col.split('_')[-1])\n",
    "        new_test.loc[i, col] = temp[temp['전용면적']==area]['전용면적별세대수'].sum()\n",
    "        \n",
    "    for col in quali_columns:\n",
    "        qual = col.split('_')[0]\n",
    "        new_test.loc[i, col] = temp[temp['신분']==qual]['전용면적별세대수'].sum()\n",
    "        \n",
    "    for col in type_columns:\n",
    "        tp = col.split('_')[0]\n",
    "        new_test.loc[i, col] = temp[temp['공급유형']==tp]['전용면적별세대수'].sum()\n",
    "        \n",
    "    new_test.loc[i,'총임대가구수'] = temp['전용면적별세대수'].sum()\n",
    "    new_test.loc[i,'임대보증금(가중)'] = int(((temp['전용면적별세대수']/new_test.loc[i,'총임대가구수'])*temp['임대보증금']).sum())\n",
    "    new_test.loc[i,'임대료(가중)'] = int(((temp['전용면적별세대수']/new_test.loc[i,'총임대가구수'])*temp['임대료']).sum())"
   ]
  },
  {
   "cell_type": "code",
   "execution_count": 10,
   "id": "651c5931-fa43-4fb2-b7cf-282ef95e6a5d",
   "metadata": {},
   "outputs": [],
   "source": [
    "new_train['임대율'] = new_train['총임대가구수']/new_train['총세대수']\n",
    "new_test['임대율'] = new_test['총임대가구수']/new_test['총세대수']"
   ]
  },
  {
   "cell_type": "code",
   "execution_count": 11,
   "id": "f275a5e4-7ccb-4011-bcba-4e76f3daf66e",
   "metadata": {},
   "outputs": [],
   "source": [
    "x_train = new_train.drop(['단지코드',target], axis=1)\n",
    "y_train = new_train[target]\n",
    "x_test = new_test.drop(['단지코드'], axis=1)"
   ]
  },
  {
   "cell_type": "code",
   "execution_count": 12,
   "id": "2bac1f47-ff5a-44d6-a3ff-28ac087bdf42",
   "metadata": {},
   "outputs": [],
   "source": [
    "ard = ARDRegression()\n",
    "adb = AdaBoostRegressor()\n",
    "rf = RandomForestRegressor()\n",
    "etr = ExtraTreesRegressor()"
   ]
  },
  {
   "cell_type": "code",
   "execution_count": 13,
   "id": "3e701435-bc4d-4c2a-9f98-e96371803fad",
   "metadata": {},
   "outputs": [],
   "source": [
    "folds= 5\n",
    "kf = KFold(n_splits=folds, shuffle=True, random_state=42)"
   ]
  },
  {
   "cell_type": "code",
   "execution_count": 14,
   "id": "4629d303-46b2-437d-b00e-3b74430f2708",
   "metadata": {},
   "outputs": [
    {
     "name": "stdout",
     "output_type": "stream",
     "text": [
      "\n",
      " ard\n",
      "mae 125.0825\n",
      "mape 0.2774\n",
      "\n",
      " adb\n",
      "mae 158.8551\n",
      "mape 0.299\n",
      "\n",
      " rf\n",
      "mae 129.8984\n",
      "mape 0.2453\n",
      "\n",
      " etr\n",
      "mae 127.2994\n",
      "mape 0.237\n"
     ]
    }
   ],
   "source": [
    "models = [ard, adb, rf, etr]\n",
    "names = ['ard', 'adb', 'rf', 'etr']\n",
    "maes = []\n",
    "mapes = []\n",
    "for model in models:\n",
    "    local_mae = 0\n",
    "    local_mape = 0\n",
    "    \n",
    "    for i, (tr_idx, val_idx) in enumerate(kf.split(x_train, y_train)):\n",
    "        X_tr, X_val = x_train.iloc[tr_idx,:], x_train.iloc[val_idx,:]\n",
    "        y_tr, y_val = y_train[tr_idx], y_train[val_idx]\n",
    "\n",
    "        model.fit(X_tr, y_tr)\n",
    "        \n",
    "        mae = mean_absolute_error(model.predict(X_val), y_val)\n",
    "        mape = mean_absolute_percentage_error(model.predict(X_val), y_val)\n",
    "        \n",
    "        local_mae+= mae/folds\n",
    "        local_mape+= mape/folds\n",
    "    \n",
    "    maes.append(round(local_mae,4))\n",
    "    mapes.append(round(local_mape,4))\n",
    "        \n",
    "for i, j, model in zip(maes, mapes, names):\n",
    "    print('\\n',model)\n",
    "    print('mae', i)\n",
    "    print('mape', j)"
   ]
  },
  {
   "cell_type": "code",
   "execution_count": 15,
   "id": "5840c29f-df5a-4278-9654-6c9bcdad6b8d",
   "metadata": {},
   "outputs": [],
   "source": [
    "pred = (rf.predict(x_test) + etr.predict(x_test))/2"
   ]
  },
  {
   "cell_type": "code",
   "execution_count": 17,
   "id": "58a14605-33a1-4884-9da6-b8c421a0fc8d",
   "metadata": {},
   "outputs": [],
   "source": [
    "submission['num'] = pred\n",
    "submission.to_csv('submission/rf+etr.csv', index=False)"
   ]
  }
 ],
 "metadata": {
  "kernelspec": {
   "display_name": "Python 3",
   "language": "python",
   "name": "python3"
  },
  "language_info": {
   "codemirror_mode": {
    "name": "ipython",
    "version": 3
   },
   "file_extension": ".py",
   "mimetype": "text/x-python",
   "name": "python",
   "nbconvert_exporter": "python",
   "pygments_lexer": "ipython3",
   "version": "3.8.5"
  }
 },
 "nbformat": 4,
 "nbformat_minor": 5
}
