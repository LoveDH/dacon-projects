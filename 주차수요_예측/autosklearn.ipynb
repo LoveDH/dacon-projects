{
 "cells": [
  {
   "cell_type": "code",
   "execution_count": 1,
   "id": "970ee5b3-eae1-43be-90e1-abfe123bbacf",
   "metadata": {},
   "outputs": [],
   "source": [
    "import pandas as pd\n",
    "import numpy as np\n",
    "\n",
    "from tqdm import tqdm"
   ]
  },
  {
   "cell_type": "code",
   "execution_count": 2,
   "id": "e6f771b1-a90c-4cb9-8180-5ab56a39ff22",
   "metadata": {},
   "outputs": [],
   "source": [
    "train = pd.read_csv('./data/train.csv')\n",
    "test = pd.read_csv('./data/test.csv')\n",
    "age = pd.read_csv('./data/age_gender_info.csv')\n",
    "submission = pd.read_csv('./data/sample_submission.csv')"
   ]
  },
  {
   "cell_type": "code",
   "execution_count": 3,
   "id": "fe442398-6aae-4d5f-8d65-de7dcfc2edf4",
   "metadata": {},
   "outputs": [],
   "source": [
    "train.columns = [\n",
    "    '단지코드', '총세대수', '임대건물구분', '지역', '공급유형', '전용면적', '전용면적별세대수', '공가수', '신분',\n",
    "    '임대보증금', '임대료', '지하철', '버스',\n",
    "    '단지내주차면수', '등록차량수'\n",
    "]\n",
    "\n",
    "test.columns = [\n",
    "    '단지코드', '총세대수', '임대건물구분', '지역', '공급유형', '전용면적', '전용면적별세대수', '공가수', '신분',\n",
    "    '임대보증금', '임대료', '지하철', '버스',\n",
    "    '단지내주차면수'\n",
    "]"
   ]
  },
  {
   "cell_type": "code",
   "execution_count": 4,
   "id": "30df007d-0dcb-46ea-b90c-595f28e51294",
   "metadata": {},
   "outputs": [],
   "source": [
    "local_map = {}\n",
    "for i, loc in enumerate(train['지역'].unique()):\n",
    "    local_map[loc] = i\n",
    "\n",
    "for df in [train, test, age]:\n",
    "    df['지역'] = df['지역'].map(local_map)"
   ]
  },
  {
   "cell_type": "code",
   "execution_count": 5,
   "id": "1de7e271-d8d8-4348-ad66-d4ad6cf60800",
   "metadata": {},
   "outputs": [],
   "source": [
    "# 인구 정보\n",
    "drop_cols = list(age.columns)[1:]\n",
    "age['0세이상20세미만'] = age[['10대미만(여자)','10대미만(남자)','10대(여자)','10대(남자)']].sum(axis=1)\n",
    "age['20세이상60세미만'] = age[['20대(여자)','20대(남자)','30대(여자)','30대(남자)','40대(여자)','40대(남자)','50대(여자)','50대(남자)']].sum(axis=1)\n",
    "age['60세이상'] = age[['60대(여자)','60대(남자)','70대(여자)','70대(남자)','80대(여자)','80대(남자)','90대(여자)','90대(남자)','100대(여자)','100대(남자)']].sum(axis=1)\n",
    "age.drop(drop_cols, axis=1, inplace=True)"
   ]
  },
  {
   "cell_type": "code",
   "execution_count": 6,
   "id": "e84d6656-61f2-4d8f-b71e-95c8d06b32cd",
   "metadata": {},
   "outputs": [],
   "source": [
    "# gender, age 정보 통합\n",
    "train = train.merge(age, on='지역')\n",
    "test = test.merge(age, on='지역')\n",
    "\n",
    "# 전용면적 범주화\n",
    "train['전용면적'] = train['전용면적']//5*5\n",
    "test['전용면적'] = test['전용면적']//5*5\n",
    "\n",
    "idx = train[train['전용면적']>100].index\n",
    "train.loc[idx, '전용면적'] = 100\n",
    "idx = train[train['전용면적']<15].index\n",
    "train.loc[idx, '전용면적'] = 15\n",
    "\n",
    "idx = test[test['전용면적']>100].index\n",
    "test.loc[idx, '전용면적'] = 100\n",
    "idx = test[test['전용면적']<15].index\n",
    "test.loc[idx, '전용면적'] = 15\n",
    "\n",
    "# 가구당 할당 주차면수\n",
    "train['가구당할당주차면수'] = train['단지내주차면수'] / train['총세대수']\n",
    "test['가구당할당주차면수'] = test['단지내주차면수'] / test['총세대수']\n",
    "\n",
    "# 공가율\n",
    "train['공가율'] = train['공가수'] / train['총세대수']\n",
    "test['공가율'] = test['공가수'] / test['총세대수']\n",
    "\n",
    "# 임대보증금 & 임대료\n",
    "train.loc[train.임대보증금=='-', '임대보증금'] = np.nan\n",
    "test.loc[test.임대보증금=='-', '임대보증금'] = np.nan\n",
    "train['임대보증금'] = train['임대보증금'].astype(float)\n",
    "test['임대보증금'] = test['임대보증금'].astype(float)\n",
    "\n",
    "train.loc[train.임대료=='-', '임대료'] = np.nan\n",
    "test.loc[test.임대료=='-', '임대료'] = np.nan\n",
    "train['임대료'] = train['임대료'].astype(float)\n",
    "test['임대료'] = test['임대료'].astype(float)\n",
    "\n",
    "train[['임대보증금', '임대료']] = train[['임대보증금', '임대료']].fillna(0)\n",
    "test[['임대보증금', '임대료']] = test[['임대보증금', '임대료']].fillna(0)\n",
    "\n",
    "# 지하철 & 버스\n",
    "train[['지하철','버스']] = train[['지하철', '버스']].fillna(0)\n",
    "test[['지하철','버스']] = test[['지하철','버스']].fillna(0)\n",
    "\n",
    "# 신분\n",
    "test.loc[(test.신분.isnull()) & (test.단지코드 == \"C2411\"), '신분'] = 'A'\n",
    "test.loc[(test.신분.isnull()) & (test.단지코드 == \"C2253\"), '신분'] = 'C'\n",
    "\n",
    "# 공급유형\n",
    "train.loc[train.공급유형.isin(['공공임대(5년)', '공공분양', '공공임대(10년)', '공공임대(분납)']), '공급유형'] = '공공임대(5년/10년/분납/분양)'\n",
    "test.loc[test.공급유형.isin(['공공임대(5년)', '공공분양', '공공임대(10년)', '공공임대(분납)']), '공급유형'] = '공공임대(5년/10년/분납/분양)'\n",
    "train.loc[train.공급유형.isin(['장기전세', '국민임대']), '공급유형'] = '국민임대/장기전세'\n",
    "test.loc[test.공급유형.isin(['장기전세', '국민임대']), '공급유형'] = '국민임대/장기전세'"
   ]
  },
  {
   "cell_type": "code",
   "execution_count": 7,
   "id": "fe4804bb-13c6-4311-bf75-475a6bda1da6",
   "metadata": {},
   "outputs": [],
   "source": [
    "columns = ['단지코드', '총세대수', '공가수', '지역', '단지내주차면수', '지하철', '버스', '가구당할당주차면수', '공가율',\n",
    "          '0세이상20세미만', '20세이상60세미만', '60세이상']\n",
    "target = '등록차량수'\n",
    "\n",
    "area_columns = []\n",
    "for area in train['전용면적'].unique():\n",
    "    area_columns.append(f'면적_{area}')\n",
    "     \n",
    "quali_columns = []\n",
    "for ql in train['신분'].unique():\n",
    "    quali_columns.append(f'{ql}_가구수')\n",
    "    \n",
    "type_columns = []\n",
    "for tp in train['공급유형'].unique():\n",
    "    type_columns.append(f'{tp}_가구수')"
   ]
  },
  {
   "cell_type": "code",
   "execution_count": 8,
   "id": "257a7b10-4506-4b6c-918d-36f722dbd1d5",
   "metadata": {},
   "outputs": [],
   "source": [
    "new_train = pd.DataFrame()\n",
    "new_test = pd.DataFrame()"
   ]
  },
  {
   "cell_type": "code",
   "execution_count": 9,
   "id": "ec12b9fe-471d-418f-aa0c-709f2dda19b7",
   "metadata": {
    "scrolled": true
   },
   "outputs": [
    {
     "name": "stderr",
     "output_type": "stream",
     "text": [
      "423it [00:14, 29.08it/s]\n",
      "150it [00:04, 30.81it/s]\n"
     ]
    }
   ],
   "source": [
    "# 단지코드 별 통합\n",
    "\n",
    "for i, code in tqdm(enumerate(train['단지코드'].unique())):\n",
    "    temp = train[train['단지코드']==code]\n",
    "    temp.index = range(temp.shape[0])\n",
    "    for col in columns:\n",
    "        new_train.loc[i, col] = temp.loc[0, col]\n",
    "    \n",
    "    for col in area_columns:\n",
    "        area = float(col.split('_')[-1])\n",
    "        new_train.loc[i, col] = temp[temp['전용면적']==area]['전용면적별세대수'].sum()\n",
    "    \n",
    "    for col in quali_columns:\n",
    "        qual = col.split('_')[0]\n",
    "        new_train.loc[i, col] = temp[temp['신분']==qual]['전용면적별세대수'].sum()\n",
    "        \n",
    "    for col in type_columns:\n",
    "        tp = col.split('_')[0]\n",
    "        new_train.loc[i, col] = temp[temp['공급유형']==tp]['전용면적별세대수'].sum()\n",
    "        \n",
    "    new_train.loc[i,'총임대가구수'] = temp['전용면적별세대수'].sum()\n",
    "    new_train.loc[i,'임대보증금(가중)'] = int(((temp['전용면적별세대수']/new_train.loc[i,'총임대가구수'])*temp['임대보증금']).sum())\n",
    "    new_train.loc[i,'임대료(가중)'] = int(((temp['전용면적별세대수']/new_train.loc[i,'총임대가구수'])*temp['임대료']).sum())\n",
    "    new_train.loc[i, target] = temp.loc[0, target]\n",
    "    \n",
    "for i, code in tqdm(enumerate(test['단지코드'].unique())):\n",
    "    temp = test[test['단지코드']==code]\n",
    "    temp.index = range(temp.shape[0])\n",
    "    for col in columns:\n",
    "        new_test.loc[i, col] = temp.loc[0, col]\n",
    "    \n",
    "    for col in area_columns:\n",
    "        area = float(col.split('_')[-1])\n",
    "        new_test.loc[i, col] = temp[temp['전용면적']==area]['전용면적별세대수'].sum()\n",
    "        \n",
    "    for col in quali_columns:\n",
    "        qual = col.split('_')[0]\n",
    "        new_test.loc[i, col] = temp[temp['신분']==qual]['전용면적별세대수'].sum()\n",
    "        \n",
    "    for col in type_columns:\n",
    "        tp = col.split('_')[0]\n",
    "        new_test.loc[i, col] = temp[temp['공급유형']==tp]['전용면적별세대수'].sum()\n",
    "        \n",
    "    new_test.loc[i,'총임대가구수'] = temp['전용면적별세대수'].sum()\n",
    "    new_test.loc[i,'임대보증금(가중)'] = int(((temp['전용면적별세대수']/new_test.loc[i,'총임대가구수'])*temp['임대보증금']).sum())\n",
    "    new_test.loc[i,'임대료(가중)'] = int(((temp['전용면적별세대수']/new_test.loc[i,'총임대가구수'])*temp['임대료']).sum())"
   ]
  },
  {
   "cell_type": "code",
   "execution_count": 10,
   "id": "0ceaab22-f154-4071-a26b-284529a1ab6b",
   "metadata": {},
   "outputs": [],
   "source": [
    "new_train['임대율'] = new_train['총임대가구수']/new_train['총세대수']\n",
    "new_test['임대율'] = new_test['총임대가구수']/new_test['총세대수']"
   ]
  },
  {
   "cell_type": "code",
   "execution_count": 11,
   "id": "41231357-282f-4ae0-bc34-8164ce97de82",
   "metadata": {},
   "outputs": [],
   "source": [
    "x_train = new_train.drop(['단지코드',target], axis=1)\n",
    "y_train = new_train[target]\n",
    "x_test = new_test.drop(['단지코드'], axis=1)"
   ]
  },
  {
   "cell_type": "code",
   "execution_count": 12,
   "id": "6cfc1395-6af8-4d59-8da2-8872c88d071c",
   "metadata": {},
   "outputs": [],
   "source": [
    "import autosklearn\n",
    "from autosklearn.regression import AutoSklearnRegressor\n",
    "from autosklearn.metrics import mean_absolute_error, make_scorer"
   ]
  },
  {
   "cell_type": "code",
   "execution_count": 13,
   "id": "386ca23a-d90f-45f8-8f35-ac78c72ac181",
   "metadata": {},
   "outputs": [],
   "source": [
    "def MAPE(y, pred):\n",
    "    return np.mean(np.abs((y-pred)/y)*100)"
   ]
  },
  {
   "cell_type": "code",
   "execution_count": 14,
   "id": "9ddc225d-adf0-4ab4-9c84-b379df19dcdd",
   "metadata": {},
   "outputs": [
    {
     "data": {
      "text/plain": [
       "AutoSklearnRegressor(metric=r2, n_jobs=3, per_run_time_limit=9720,\n",
       "                     resampling_strategy='cv',\n",
       "                     resampling_strategy_arguments={'folds': 5},\n",
       "                     time_left_for_this_task=32400)"
      ]
     },
     "execution_count": 14,
     "metadata": {},
     "output_type": "execute_result"
    }
   ],
   "source": [
    "mape_scorer = autosklearn.metrics.make_scorer(\n",
    "    name=\"mape\",\n",
    "    score_func=MAPE,\n",
    "    optimum=0,\n",
    "    greater_is_better=False,\n",
    "    needs_proba=False,\n",
    "    needs_threshold=False,\n",
    ")\n",
    "automl_params = {\n",
    "    'n_jobs':3,\n",
    "    'time_left_for_this_task':9*60*60,\n",
    "    'resampling_strategy':'cv',\n",
    "    'resampling_strategy_arguments':{'folds':5},\n",
    "    'metric': autosklearn.metrics.r2\n",
    "}\n",
    "\n",
    "model = AutoSklearnRegressor(**automl_params)\n",
    "model.fit(x_train, y_train)"
   ]
  },
  {
   "cell_type": "code",
   "execution_count": 15,
   "id": "79661ff4-da1c-417d-a83a-9e17d2093077",
   "metadata": {},
   "outputs": [
    {
     "name": "stdout",
     "output_type": "stream",
     "text": [
      "auto-sklearn results:\n",
      "  Dataset name: 35d9d446-db3c-11eb-802b-00155dd7d6eb\n",
      "  Metric: r2\n",
      "  Best validation score: 0.795534\n",
      "  Number of target algorithm runs: 282\n",
      "  Number of successful target algorithm runs: 265\n",
      "  Number of crashed target algorithm runs: 1\n",
      "  Number of target algorithms that exceeded the time limit: 6\n",
      "  Number of target algorithms that exceeded the memory limit: 10\n",
      "\n"
     ]
    }
   ],
   "source": [
    "print(model.sprint_statistics())"
   ]
  },
  {
   "cell_type": "code",
   "execution_count": 16,
   "id": "20df8de0-bfb7-403d-bea8-7462b4fb876b",
   "metadata": {},
   "outputs": [
    {
     "name": "stdout",
     "output_type": "stream",
     "text": [
      "[(0.420000, SimpleRegressionPipeline({'data_preprocessing:categorical_transformer:categorical_encoding:__choice__': 'one_hot_encoding', 'data_preprocessing:categorical_transformer:category_coalescence:__choice__': 'no_coalescense', 'data_preprocessing:numerical_transformer:imputation:strategy': 'most_frequent', 'data_preprocessing:numerical_transformer:rescaling:__choice__': 'robust_scaler', 'feature_preprocessor:__choice__': 'extra_trees_preproc_for_regression', 'regressor:__choice__': 'ard_regression', 'data_preprocessing:numerical_transformer:rescaling:robust_scaler:q_max': 0.8283076177233708, 'data_preprocessing:numerical_transformer:rescaling:robust_scaler:q_min': 0.03477660595953355, 'feature_preprocessor:extra_trees_preproc_for_regression:bootstrap': 'False', 'feature_preprocessor:extra_trees_preproc_for_regression:criterion': 'mae', 'feature_preprocessor:extra_trees_preproc_for_regression:max_depth': 'None', 'feature_preprocessor:extra_trees_preproc_for_regression:max_features': 0.2973976562169824, 'feature_preprocessor:extra_trees_preproc_for_regression:max_leaf_nodes': 'None', 'feature_preprocessor:extra_trees_preproc_for_regression:min_samples_leaf': 11, 'feature_preprocessor:extra_trees_preproc_for_regression:min_samples_split': 4, 'feature_preprocessor:extra_trees_preproc_for_regression:min_weight_fraction_leaf': 0.0, 'feature_preprocessor:extra_trees_preproc_for_regression:n_estimators': 100, 'regressor:ard_regression:alpha_1': 0.0006463072074588585, 'regressor:ard_regression:alpha_2': 0.00010507079940688202, 'regressor:ard_regression:fit_intercept': 'True', 'regressor:ard_regression:lambda_1': 1.2256879520779725e-08, 'regressor:ard_regression:lambda_2': 6.19015285662599e-05, 'regressor:ard_regression:n_iter': 300, 'regressor:ard_regression:threshold_lambda': 9240.11051168439, 'regressor:ard_regression:tol': 7.821168734220949e-05},\n",
      "dataset_properties={\n",
      "  'task': 4,\n",
      "  'sparse': False,\n",
      "  'multioutput': False,\n",
      "  'target_type': 'regression',\n",
      "  'signed': False})),\n",
      "(0.180000, SimpleRegressionPipeline({'data_preprocessing:categorical_transformer:categorical_encoding:__choice__': 'one_hot_encoding', 'data_preprocessing:categorical_transformer:category_coalescence:__choice__': 'minority_coalescer', 'data_preprocessing:numerical_transformer:imputation:strategy': 'most_frequent', 'data_preprocessing:numerical_transformer:rescaling:__choice__': 'standardize', 'feature_preprocessor:__choice__': 'no_preprocessing', 'regressor:__choice__': 'liblinear_svr', 'data_preprocessing:categorical_transformer:category_coalescence:minority_coalescer:minimum_fraction': 0.003429789182880022, 'regressor:liblinear_svr:C': 13.445962793229928, 'regressor:liblinear_svr:dual': 'False', 'regressor:liblinear_svr:epsilon': 0.019518522349223532, 'regressor:liblinear_svr:fit_intercept': 'True', 'regressor:liblinear_svr:intercept_scaling': 1, 'regressor:liblinear_svr:loss': 'squared_epsilon_insensitive', 'regressor:liblinear_svr:tol': 0.0301965826996389},\n",
      "dataset_properties={\n",
      "  'task': 4,\n",
      "  'sparse': False,\n",
      "  'multioutput': False,\n",
      "  'target_type': 'regression',\n",
      "  'signed': False})),\n",
      "(0.140000, SimpleRegressionPipeline({'data_preprocessing:categorical_transformer:categorical_encoding:__choice__': 'no_encoding', 'data_preprocessing:categorical_transformer:category_coalescence:__choice__': 'minority_coalescer', 'data_preprocessing:numerical_transformer:imputation:strategy': 'mean', 'data_preprocessing:numerical_transformer:rescaling:__choice__': 'standardize', 'feature_preprocessor:__choice__': 'extra_trees_preproc_for_regression', 'regressor:__choice__': 'liblinear_svr', 'data_preprocessing:categorical_transformer:category_coalescence:minority_coalescer:minimum_fraction': 0.05222979576878058, 'feature_preprocessor:extra_trees_preproc_for_regression:bootstrap': 'False', 'feature_preprocessor:extra_trees_preproc_for_regression:criterion': 'mae', 'feature_preprocessor:extra_trees_preproc_for_regression:max_depth': 'None', 'feature_preprocessor:extra_trees_preproc_for_regression:max_features': 0.5666640894257967, 'feature_preprocessor:extra_trees_preproc_for_regression:max_leaf_nodes': 'None', 'feature_preprocessor:extra_trees_preproc_for_regression:min_samples_leaf': 19, 'feature_preprocessor:extra_trees_preproc_for_regression:min_samples_split': 2, 'feature_preprocessor:extra_trees_preproc_for_regression:min_weight_fraction_leaf': 0.0, 'feature_preprocessor:extra_trees_preproc_for_regression:n_estimators': 100, 'regressor:liblinear_svr:C': 0.08022841944660762, 'regressor:liblinear_svr:dual': 'False', 'regressor:liblinear_svr:epsilon': 0.5147490044720114, 'regressor:liblinear_svr:fit_intercept': 'True', 'regressor:liblinear_svr:intercept_scaling': 1, 'regressor:liblinear_svr:loss': 'squared_epsilon_insensitive', 'regressor:liblinear_svr:tol': 1.2803736704389429e-05},\n",
      "dataset_properties={\n",
      "  'task': 4,\n",
      "  'sparse': False,\n",
      "  'multioutput': False,\n",
      "  'target_type': 'regression',\n",
      "  'signed': False})),\n",
      "(0.080000, SimpleRegressionPipeline({'data_preprocessing:categorical_transformer:categorical_encoding:__choice__': 'no_encoding', 'data_preprocessing:categorical_transformer:category_coalescence:__choice__': 'no_coalescense', 'data_preprocessing:numerical_transformer:imputation:strategy': 'median', 'data_preprocessing:numerical_transformer:rescaling:__choice__': 'minmax', 'feature_preprocessor:__choice__': 'extra_trees_preproc_for_regression', 'regressor:__choice__': 'sgd', 'feature_preprocessor:extra_trees_preproc_for_regression:bootstrap': 'True', 'feature_preprocessor:extra_trees_preproc_for_regression:criterion': 'mse', 'feature_preprocessor:extra_trees_preproc_for_regression:max_depth': 'None', 'feature_preprocessor:extra_trees_preproc_for_regression:max_features': 0.9217217851843316, 'feature_preprocessor:extra_trees_preproc_for_regression:max_leaf_nodes': 'None', 'feature_preprocessor:extra_trees_preproc_for_regression:min_samples_leaf': 18, 'feature_preprocessor:extra_trees_preproc_for_regression:min_samples_split': 2, 'feature_preprocessor:extra_trees_preproc_for_regression:min_weight_fraction_leaf': 0.0, 'feature_preprocessor:extra_trees_preproc_for_regression:n_estimators': 100, 'regressor:sgd:alpha': 0.0011649583490346857, 'regressor:sgd:average': 'False', 'regressor:sgd:fit_intercept': 'True', 'regressor:sgd:learning_rate': 'invscaling', 'regressor:sgd:loss': 'squared_epsilon_insensitive', 'regressor:sgd:penalty': 'l1', 'regressor:sgd:tol': 2.2007784334854387e-05, 'regressor:sgd:epsilon': 0.020481654809549762, 'regressor:sgd:eta0': 0.0033379573984971783, 'regressor:sgd:power_t': 0.25185775451472325},\n",
      "dataset_properties={\n",
      "  'task': 4,\n",
      "  'sparse': False,\n",
      "  'multioutput': False,\n",
      "  'target_type': 'regression',\n",
      "  'signed': False})),\n",
      "(0.080000, SimpleRegressionPipeline({'data_preprocessing:categorical_transformer:categorical_encoding:__choice__': 'no_encoding', 'data_preprocessing:categorical_transformer:category_coalescence:__choice__': 'minority_coalescer', 'data_preprocessing:numerical_transformer:imputation:strategy': 'most_frequent', 'data_preprocessing:numerical_transformer:rescaling:__choice__': 'robust_scaler', 'feature_preprocessor:__choice__': 'polynomial', 'regressor:__choice__': 'adaboost', 'data_preprocessing:categorical_transformer:category_coalescence:minority_coalescer:minimum_fraction': 0.007172160456308241, 'data_preprocessing:numerical_transformer:rescaling:robust_scaler:q_max': 0.7596271614002988, 'data_preprocessing:numerical_transformer:rescaling:robust_scaler:q_min': 0.22564785362827533, 'feature_preprocessor:polynomial:degree': 3, 'feature_preprocessor:polynomial:include_bias': 'False', 'feature_preprocessor:polynomial:interaction_only': 'False', 'regressor:adaboost:learning_rate': 0.0644384143108335, 'regressor:adaboost:loss': 'exponential', 'regressor:adaboost:max_depth': 6, 'regressor:adaboost:n_estimators': 440},\n",
      "dataset_properties={\n",
      "  'task': 4,\n",
      "  'sparse': False,\n",
      "  'multioutput': False,\n",
      "  'target_type': 'regression',\n",
      "  'signed': False})),\n",
      "(0.040000, SimpleRegressionPipeline({'data_preprocessing:categorical_transformer:categorical_encoding:__choice__': 'one_hot_encoding', 'data_preprocessing:categorical_transformer:category_coalescence:__choice__': 'no_coalescense', 'data_preprocessing:numerical_transformer:imputation:strategy': 'most_frequent', 'data_preprocessing:numerical_transformer:rescaling:__choice__': 'power_transformer', 'feature_preprocessor:__choice__': 'polynomial', 'regressor:__choice__': 'adaboost', 'feature_preprocessor:polynomial:degree': 2, 'feature_preprocessor:polynomial:include_bias': 'True', 'feature_preprocessor:polynomial:interaction_only': 'False', 'regressor:adaboost:learning_rate': 0.6962576464354927, 'regressor:adaboost:loss': 'exponential', 'regressor:adaboost:max_depth': 10, 'regressor:adaboost:n_estimators': 173},\n",
      "dataset_properties={\n",
      "  'task': 4,\n",
      "  'sparse': False,\n",
      "  'multioutput': False,\n",
      "  'target_type': 'regression',\n",
      "  'signed': False})),\n",
      "(0.020000, SimpleRegressionPipeline({'data_preprocessing:categorical_transformer:categorical_encoding:__choice__': 'no_encoding', 'data_preprocessing:categorical_transformer:category_coalescence:__choice__': 'minority_coalescer', 'data_preprocessing:numerical_transformer:imputation:strategy': 'median', 'data_preprocessing:numerical_transformer:rescaling:__choice__': 'minmax', 'feature_preprocessor:__choice__': 'extra_trees_preproc_for_regression', 'regressor:__choice__': 'sgd', 'data_preprocessing:categorical_transformer:category_coalescence:minority_coalescer:minimum_fraction': 0.005056470583436684, 'feature_preprocessor:extra_trees_preproc_for_regression:bootstrap': 'False', 'feature_preprocessor:extra_trees_preproc_for_regression:criterion': 'mse', 'feature_preprocessor:extra_trees_preproc_for_regression:max_depth': 'None', 'feature_preprocessor:extra_trees_preproc_for_regression:max_features': 0.9653826068546477, 'feature_preprocessor:extra_trees_preproc_for_regression:max_leaf_nodes': 'None', 'feature_preprocessor:extra_trees_preproc_for_regression:min_samples_leaf': 12, 'feature_preprocessor:extra_trees_preproc_for_regression:min_samples_split': 17, 'feature_preprocessor:extra_trees_preproc_for_regression:min_weight_fraction_leaf': 0.0, 'feature_preprocessor:extra_trees_preproc_for_regression:n_estimators': 100, 'regressor:sgd:alpha': 0.000603945458953386, 'regressor:sgd:average': 'False', 'regressor:sgd:fit_intercept': 'True', 'regressor:sgd:learning_rate': 'invscaling', 'regressor:sgd:loss': 'squared_epsilon_insensitive', 'regressor:sgd:penalty': 'l1', 'regressor:sgd:tol': 1.2686030161749234e-05, 'regressor:sgd:epsilon': 0.007782518332314248, 'regressor:sgd:eta0': 0.0032169554809325374, 'regressor:sgd:power_t': 0.29202353548744114},\n",
      "dataset_properties={\n",
      "  'task': 4,\n",
      "  'sparse': False,\n",
      "  'multioutput': False,\n",
      "  'target_type': 'regression',\n",
      "  'signed': False})),\n",
      "(0.020000, SimpleRegressionPipeline({'data_preprocessing:categorical_transformer:categorical_encoding:__choice__': 'no_encoding', 'data_preprocessing:categorical_transformer:category_coalescence:__choice__': 'no_coalescense', 'data_preprocessing:numerical_transformer:imputation:strategy': 'most_frequent', 'data_preprocessing:numerical_transformer:rescaling:__choice__': 'power_transformer', 'feature_preprocessor:__choice__': 'polynomial', 'regressor:__choice__': 'adaboost', 'feature_preprocessor:polynomial:degree': 3, 'feature_preprocessor:polynomial:include_bias': 'False', 'feature_preprocessor:polynomial:interaction_only': 'True', 'regressor:adaboost:learning_rate': 0.11171128888797817, 'regressor:adaboost:loss': 'linear', 'regressor:adaboost:max_depth': 9, 'regressor:adaboost:n_estimators': 50},\n",
      "dataset_properties={\n",
      "  'task': 4,\n",
      "  'sparse': False,\n",
      "  'multioutput': False,\n",
      "  'target_type': 'regression',\n",
      "  'signed': False})),\n",
      "(0.020000, SimpleRegressionPipeline({'data_preprocessing:categorical_transformer:categorical_encoding:__choice__': 'no_encoding', 'data_preprocessing:categorical_transformer:category_coalescence:__choice__': 'minority_coalescer', 'data_preprocessing:numerical_transformer:imputation:strategy': 'mean', 'data_preprocessing:numerical_transformer:rescaling:__choice__': 'robust_scaler', 'feature_preprocessor:__choice__': 'polynomial', 'regressor:__choice__': 'adaboost', 'data_preprocessing:categorical_transformer:category_coalescence:minority_coalescer:minimum_fraction': 0.0001206942099002003, 'data_preprocessing:numerical_transformer:rescaling:robust_scaler:q_max': 0.7943695884326887, 'data_preprocessing:numerical_transformer:rescaling:robust_scaler:q_min': 0.2608914967038716, 'feature_preprocessor:polynomial:degree': 2, 'feature_preprocessor:polynomial:include_bias': 'True', 'feature_preprocessor:polynomial:interaction_only': 'False', 'regressor:adaboost:learning_rate': 0.10569351686924003, 'regressor:adaboost:loss': 'square', 'regressor:adaboost:max_depth': 4, 'regressor:adaboost:n_estimators': 477},\n",
      "dataset_properties={\n",
      "  'task': 4,\n",
      "  'sparse': False,\n",
      "  'multioutput': False,\n",
      "  'target_type': 'regression',\n",
      "  'signed': False})),\n",
      "]\n"
     ]
    }
   ],
   "source": [
    "print(model.show_models())"
   ]
  },
  {
   "cell_type": "code",
   "execution_count": 17,
   "id": "a4f4deaf-06d3-4d82-8b3e-1f3fee9aed59",
   "metadata": {},
   "outputs": [],
   "source": [
    "pred = model.predict(x_test)"
   ]
  },
  {
   "cell_type": "code",
   "execution_count": 18,
   "id": "d301ebce-bde5-4215-9a64-9023d42d0284",
   "metadata": {},
   "outputs": [],
   "source": [
    "submission['num'] = pred\n",
    "submission.to_csv('submission/autosklearn_r2.csv', index=False)"
   ]
  },
  {
   "cell_type": "code",
   "execution_count": 19,
   "id": "8c3884a6-7a38-41e3-8290-40ddbf8fdf8c",
   "metadata": {},
   "outputs": [
    {
     "data": {
      "text/plain": [
       "['autosklearn_r2.joblib']"
      ]
     },
     "execution_count": 19,
     "metadata": {},
     "output_type": "execute_result"
    }
   ],
   "source": [
    "from joblib import dump, load\n",
    "dump(model, 'autosklearn_r2.joblib')"
   ]
  }
 ],
 "metadata": {
  "kernelspec": {
   "display_name": "Python 3",
   "language": "python",
   "name": "python3"
  },
  "language_info": {
   "codemirror_mode": {
    "name": "ipython",
    "version": 3
   },
   "file_extension": ".py",
   "mimetype": "text/x-python",
   "name": "python",
   "nbconvert_exporter": "python",
   "pygments_lexer": "ipython3",
   "version": "3.8.5"
  }
 },
 "nbformat": 4,
 "nbformat_minor": 5
}
