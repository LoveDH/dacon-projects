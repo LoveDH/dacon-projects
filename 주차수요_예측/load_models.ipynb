{
 "cells": [
  {
   "cell_type": "code",
   "execution_count": 1,
   "id": "b0a1b03c-0fdb-49d4-b86c-a23d6c50b14a",
   "metadata": {},
   "outputs": [],
   "source": [
    "import pandas as pd\n",
    "import numpy as np\n",
    "from joblib import load\n",
    "from sklearn.linear_model import ARDRegression\n",
    "from sklearn.ensemble import AdaBoostRegressor, RandomForestRegressor\n",
    "from sklearn.svm import SVR\n",
    "from sklearn.gaussian_process import GaussianProcessRegressor\n",
    "from tqdm import tqdm"
   ]
  },
  {
   "cell_type": "code",
   "execution_count": 2,
   "id": "64c3b8df-2e64-4ff9-8bcf-5ce7352af771",
   "metadata": {},
   "outputs": [],
   "source": [
    "train = pd.read_csv('./data/train.csv')\n",
    "test = pd.read_csv('./data/test.csv')\n",
    "age = pd.read_csv('./data/age_gender_info.csv')\n",
    "submission = pd.read_csv('./data/sample_submission.csv')"
   ]
  },
  {
   "cell_type": "code",
   "execution_count": 3,
   "id": "e3933d60-8b3d-46e6-a626-0c9638f2d23c",
   "metadata": {},
   "outputs": [],
   "source": [
    "train.columns = [\n",
    "    '단지코드', '총세대수', '임대건물구분', '지역', '공급유형', '전용면적', '전용면적별세대수', '공가수', '신분',\n",
    "    '임대보증금', '임대료', '지하철', '버스',\n",
    "    '단지내주차면수', '등록차량수'\n",
    "]\n",
    "\n",
    "test.columns = [\n",
    "    '단지코드', '총세대수', '임대건물구분', '지역', '공급유형', '전용면적', '전용면적별세대수', '공가수', '신분',\n",
    "    '임대보증금', '임대료', '지하철', '버스',\n",
    "    '단지내주차면수'\n",
    "]"
   ]
  },
  {
   "cell_type": "code",
   "execution_count": 4,
   "id": "39e4d57a-a9ed-4c44-92a0-292d7aecdc08",
   "metadata": {},
   "outputs": [],
   "source": [
    "local_map = {}\n",
    "for i, loc in enumerate(train['지역'].unique()):\n",
    "    local_map[loc] = i\n",
    "\n",
    "for df in [train, test, age]:\n",
    "    df['지역'] = df['지역'].map(local_map)"
   ]
  },
  {
   "cell_type": "code",
   "execution_count": 5,
   "id": "dcf8c740-8789-454c-a45d-f4bda8521128",
   "metadata": {},
   "outputs": [],
   "source": [
    "# 인구 정보\n",
    "drop_cols = list(age.columns)[1:]\n",
    "age['0세이상20세미만'] = age[['10대미만(여자)','10대미만(남자)','10대(여자)','10대(남자)']].sum(axis=1)\n",
    "age['20세이상60세미만'] = age[['20대(여자)','20대(남자)','30대(여자)','30대(남자)','40대(여자)','40대(남자)','50대(여자)','50대(남자)']].sum(axis=1)\n",
    "age['60세이상'] = age[['60대(여자)','60대(남자)','70대(여자)','70대(남자)','80대(여자)','80대(남자)','90대(여자)','90대(남자)','100대(여자)','100대(남자)']].sum(axis=1)\n",
    "age.drop(drop_cols, axis=1, inplace=True)"
   ]
  },
  {
   "cell_type": "code",
   "execution_count": 6,
   "id": "ef6e7cb8-f8ea-4c69-82f0-517ad6ebf64b",
   "metadata": {},
   "outputs": [],
   "source": [
    "# gender, age 정보 통합\n",
    "train = train.merge(age, on='지역')\n",
    "test = test.merge(age, on='지역')\n",
    "\n",
    "# 전용면적 범주화\n",
    "train['전용면적'] = train['전용면적']//5*5\n",
    "test['전용면적'] = test['전용면적']//5*5\n",
    "\n",
    "idx = train[train['전용면적']>100].index\n",
    "train.loc[idx, '전용면적'] = 100\n",
    "idx = train[train['전용면적']<15].index\n",
    "train.loc[idx, '전용면적'] = 15\n",
    "\n",
    "idx = test[test['전용면적']>100].index\n",
    "test.loc[idx, '전용면적'] = 100\n",
    "idx = test[test['전용면적']<15].index\n",
    "test.loc[idx, '전용면적'] = 15\n",
    "\n",
    "# 가구당 할당 주차면수\n",
    "train['가구당할당주차면수'] = train['단지내주차면수'] / train['총세대수']\n",
    "test['가구당할당주차면수'] = test['단지내주차면수'] / test['총세대수']\n",
    "\n",
    "# 공가율\n",
    "train['공가율'] = train['공가수'] / train['총세대수']\n",
    "test['공가율'] = test['공가수'] / test['총세대수']\n",
    "\n",
    "# 임대보증금 & 임대료\n",
    "train.loc[train.임대보증금=='-', '임대보증금'] = np.nan\n",
    "test.loc[test.임대보증금=='-', '임대보증금'] = np.nan\n",
    "train['임대보증금'] = train['임대보증금'].astype(float)\n",
    "test['임대보증금'] = test['임대보증금'].astype(float)\n",
    "\n",
    "train.loc[train.임대료=='-', '임대료'] = np.nan\n",
    "test.loc[test.임대료=='-', '임대료'] = np.nan\n",
    "train['임대료'] = train['임대료'].astype(float)\n",
    "test['임대료'] = test['임대료'].astype(float)\n",
    "\n",
    "train[['임대보증금', '임대료']] = train[['임대보증금', '임대료']].fillna(0)\n",
    "test[['임대보증금', '임대료']] = test[['임대보증금', '임대료']].fillna(0)\n",
    "\n",
    "# 지하철 & 버스\n",
    "train[['지하철','버스']] = train[['지하철', '버스']].fillna(0)\n",
    "test[['지하철','버스']] = test[['지하철','버스']].fillna(0)\n",
    "\n",
    "# 신분\n",
    "test.loc[(test.신분.isnull()) & (test.단지코드 == \"C2411\"), '신분'] = 'A'\n",
    "test.loc[(test.신분.isnull()) & (test.단지코드 == \"C2253\"), '신분'] = 'C'\n",
    "\n",
    "# 공급유형\n",
    "train.loc[train.공급유형.isin(['공공임대(5년)', '공공분양', '공공임대(10년)', '공공임대(분납)']), '공급유형'] = '공공임대(5년/10년/분납/분양)'\n",
    "test.loc[test.공급유형.isin(['공공임대(5년)', '공공분양', '공공임대(10년)', '공공임대(분납)']), '공급유형'] = '공공임대(5년/10년/분납/분양)'\n",
    "train.loc[train.공급유형.isin(['장기전세', '국민임대']), '공급유형'] = '국민임대/장기전세'\n",
    "test.loc[test.공급유형.isin(['장기전세', '국민임대']), '공급유형'] = '국민임대/장기전세'"
   ]
  },
  {
   "cell_type": "code",
   "execution_count": 7,
   "id": "2774397f-b121-47f5-aa80-30a3d31f67bf",
   "metadata": {},
   "outputs": [],
   "source": [
    "columns = ['단지코드', '총세대수', '공가수', '지역', '단지내주차면수', '지하철', '버스', '가구당할당주차면수', '공가율',\n",
    "          '0세이상20세미만', '20세이상60세미만', '60세이상']\n",
    "target = '등록차량수'\n",
    "\n",
    "area_columns = []\n",
    "for area in train['전용면적'].unique():\n",
    "    area_columns.append(f'면적_{area}')\n",
    "     \n",
    "quali_columns = []\n",
    "for ql in train['신분'].unique():\n",
    "    quali_columns.append(f'{ql}_가구수')\n",
    "    \n",
    "type_columns = []\n",
    "for tp in train['공급유형'].unique():\n",
    "    type_columns.append(f'{tp}_가구수')"
   ]
  },
  {
   "cell_type": "code",
   "execution_count": 8,
   "id": "cda9190b-e2bd-4138-96b5-6f2581d04573",
   "metadata": {},
   "outputs": [],
   "source": [
    "new_train = pd.DataFrame()\n",
    "new_test = pd.DataFrame()"
   ]
  },
  {
   "cell_type": "code",
   "execution_count": 9,
   "id": "4ebff097-7a86-4cca-8fb9-b44f26a4aa44",
   "metadata": {
    "scrolled": true
   },
   "outputs": [
    {
     "name": "stderr",
     "output_type": "stream",
     "text": [
      "423it [00:16, 25.81it/s]\n",
      "150it [00:06, 24.60it/s]\n"
     ]
    }
   ],
   "source": [
    "# 단지코드 별 통합\n",
    "\n",
    "for i, code in tqdm(enumerate(train['단지코드'].unique())):\n",
    "    temp = train[train['단지코드']==code]\n",
    "    temp.index = range(temp.shape[0])\n",
    "    for col in columns:\n",
    "        new_train.loc[i, col] = temp.loc[0, col]\n",
    "    \n",
    "    for col in area_columns:\n",
    "        area = float(col.split('_')[-1])\n",
    "        new_train.loc[i, col] = temp[temp['전용면적']==area]['전용면적별세대수'].sum()\n",
    "    \n",
    "    for col in quali_columns:\n",
    "        qual = col.split('_')[0]\n",
    "        new_train.loc[i, col] = temp[temp['신분']==qual]['전용면적별세대수'].sum()\n",
    "        \n",
    "    for col in type_columns:\n",
    "        tp = col.split('_')[0]\n",
    "        new_train.loc[i, col] = temp[temp['공급유형']==tp]['전용면적별세대수'].sum()\n",
    "        \n",
    "    new_train.loc[i,'총임대가구수'] = temp['전용면적별세대수'].sum()\n",
    "    new_train.loc[i,'임대보증금(가중)'] = int(((temp['전용면적별세대수']/new_train.loc[i,'총임대가구수'])*temp['임대보증금']).sum())\n",
    "    new_train.loc[i,'임대료(가중)'] = int(((temp['전용면적별세대수']/new_train.loc[i,'총임대가구수'])*temp['임대료']).sum())\n",
    "    new_train.loc[i, target] = temp.loc[0, target]\n",
    "    \n",
    "for i, code in tqdm(enumerate(test['단지코드'].unique())):\n",
    "    temp = test[test['단지코드']==code]\n",
    "    temp.index = range(temp.shape[0])\n",
    "    for col in columns:\n",
    "        new_test.loc[i, col] = temp.loc[0, col]\n",
    "    \n",
    "    for col in area_columns:\n",
    "        area = float(col.split('_')[-1])\n",
    "        new_test.loc[i, col] = temp[temp['전용면적']==area]['전용면적별세대수'].sum()\n",
    "        \n",
    "    for col in quali_columns:\n",
    "        qual = col.split('_')[0]\n",
    "        new_test.loc[i, col] = temp[temp['신분']==qual]['전용면적별세대수'].sum()\n",
    "        \n",
    "    for col in type_columns:\n",
    "        tp = col.split('_')[0]\n",
    "        new_test.loc[i, col] = temp[temp['공급유형']==tp]['전용면적별세대수'].sum()\n",
    "        \n",
    "    new_test.loc[i,'총임대가구수'] = temp['전용면적별세대수'].sum()\n",
    "    new_test.loc[i,'임대보증금(가중)'] = int(((temp['전용면적별세대수']/new_test.loc[i,'총임대가구수'])*temp['임대보증금']).sum())\n",
    "    new_test.loc[i,'임대료(가중)'] = int(((temp['전용면적별세대수']/new_test.loc[i,'총임대가구수'])*temp['임대료']).sum())"
   ]
  },
  {
   "cell_type": "code",
   "execution_count": 10,
   "id": "1236326c-0d51-4554-bb69-b648ec85b07d",
   "metadata": {},
   "outputs": [],
   "source": [
    "new_train = new_train.fillna(-1)\n",
    "new_test = new_test.fillna(-1)"
   ]
  },
  {
   "cell_type": "code",
   "execution_count": 11,
   "id": "82057996-3cdc-46ec-bcc2-1e2f47bb1764",
   "metadata": {},
   "outputs": [],
   "source": [
    "new_train['임대율'] = new_train['총임대가구수']/new_train['총세대수']\n",
    "new_test['임대율'] = new_test['총임대가구수']/new_test['총세대수']"
   ]
  },
  {
   "cell_type": "code",
   "execution_count": 12,
   "id": "29fcc90e-0ed2-41a7-8216-98faf5ac051a",
   "metadata": {},
   "outputs": [],
   "source": [
    "x_train = new_train.drop(['단지코드',target], axis=1)\n",
    "y_train = new_train[target]\n",
    "x_test = new_test.drop(['단지코드'], axis=1)"
   ]
  },
  {
   "cell_type": "code",
   "execution_count": 26,
   "id": "6855d445-c8f2-49ac-a664-1d70e3f8a746",
   "metadata": {},
   "outputs": [],
   "source": [
    "ask = load('autosklearn.joblib')\n",
    "rf = RandomForestRegressor()\n",
    "rf.fit(x_train,y_train)\n",
    "\n",
    "pred1 = ask.predict(x_test)\n",
    "pred2 = rf.predict(x_test)"
   ]
  },
  {
   "cell_type": "code",
   "execution_count": 39,
   "id": "a8152a3e-eee6-4da1-ab41-9402d76d651c",
   "metadata": {},
   "outputs": [
    {
     "data": {
      "text/plain": [
       "{'dask_client': None,\n",
       " 'delete_output_folder_after_terminate': True,\n",
       " 'delete_tmp_folder_after_terminate': True,\n",
       " 'disable_evaluator_output': False,\n",
       " 'ensemble_nbest': 50,\n",
       " 'ensemble_size': 50,\n",
       " 'exclude_estimators': None,\n",
       " 'exclude_preprocessors': None,\n",
       " 'get_smac_object_callback': None,\n",
       " 'include_estimators': None,\n",
       " 'include_preprocessors': None,\n",
       " 'initial_configurations_via_metalearning': 25,\n",
       " 'load_models': True,\n",
       " 'logging_config': None,\n",
       " 'max_models_on_disc': 50,\n",
       " 'memory_limit': 3072,\n",
       " 'metadata_directory': None,\n",
       " 'metric': mean_absolute_error,\n",
       " 'n_jobs': 2,\n",
       " 'output_folder': None,\n",
       " 'per_run_time_limit': 5040,\n",
       " 'resampling_strategy': 'cv',\n",
       " 'resampling_strategy_arguments': {'folds': 5},\n",
       " 'scoring_functions': None,\n",
       " 'seed': 1,\n",
       " 'smac_scenario_args': None,\n",
       " 'time_left_for_this_task': 25200,\n",
       " 'tmp_folder': None}"
      ]
     },
     "execution_count": 39,
     "metadata": {},
     "output_type": "execute_result"
    }
   ],
   "source": [
    "ask.get_params()"
   ]
  }
 ],
 "metadata": {
  "kernelspec": {
   "display_name": "Python 3",
   "language": "python",
   "name": "python3"
  },
  "language_info": {
   "codemirror_mode": {
    "name": "ipython",
    "version": 3
   },
   "file_extension": ".py",
   "mimetype": "text/x-python",
   "name": "python",
   "nbconvert_exporter": "python",
   "pygments_lexer": "ipython3",
   "version": "3.9.5"
  }
 },
 "nbformat": 4,
 "nbformat_minor": 5
}
