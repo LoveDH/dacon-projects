{
 "cells": [
  {
   "cell_type": "code",
   "execution_count": null,
   "metadata": {},
   "outputs": [],
   "source": [
    "import warnings\n",
    "warnings.filterwarnings('ignore')\n",
    "\n",
    "import pandas as pd\n",
    "import numpy as np\n",
    "\n",
    "from sklearn.model_selection import train_test_split, GridSearchCV\n",
    "# pd.options.display.max_rows = 30000\n",
    "# pd.options.display.max_columns = 1000\n",
    "# pd.options.display.max_colwidth = 1000"
   ]
  },
  {
   "cell_type": "code",
   "execution_count": null,
   "metadata": {},
   "outputs": [],
   "source": [
    "train = pd.read_csv(\"data/train.csv\")\n",
    "test = pd.read_csv(\"data/test.csv\")\n",
    "sub = pd.read_csv(\"data/sample_submission.csv\")"
   ]
  },
  {
   "cell_type": "code",
   "execution_count": null,
   "metadata": {},
   "outputs": [],
   "source": [
    "train['DAYS_BIRTH'] = abs(train['DAYS_BIRTH'])\n",
    "train['DAYS_EMPLOYED'] = abs(train['DAYS_EMPLOYED'])\n",
    "train['begin_month'] = abs(train['begin_month'])\n",
    "\n",
    "test['DAYS_BIRTH'] = abs(test['DAYS_BIRTH'])\n",
    "test['DAYS_EMPLOYED'] = abs(test['DAYS_EMPLOYED'])\n",
    "test['begin_month'] = abs(test['begin_month'])"
   ]
  },
  {
   "cell_type": "code",
   "execution_count": null,
   "metadata": {},
   "outputs": [],
   "source": [
    "for df in [train,test]:\n",
    "    df.drop(\"FLAG_MOBIL\", 1, inplace = True)\n",
    "    df.loc[df['DAYS_EMPLOYED']==365243,'DAYS_EMPLOYED'] = -1"
   ]
  },
  {
   "cell_type": "code",
   "execution_count": null,
   "metadata": {},
   "outputs": [],
   "source": [
    "train['card_ID'] = train['DAYS_EMPLOYED'].astype(str) + '_' + train['income_total'].astype(str) + '_' + train['DAYS_BIRTH'].astype(str) + '_' +train['begin_month'].astype(str)\n",
    "test['card_ID'] = test['DAYS_EMPLOYED'].astype(str) + '_' + test['income_total'].astype(str) + '_' + test['DAYS_BIRTH'].astype(str) + '_' +test['begin_month'].astype(str)"
   ]
  },
  {
   "cell_type": "code",
   "execution_count": null,
   "metadata": {},
   "outputs": [],
   "source": [
    "train['credit'].value_counts()"
   ]
  },
  {
   "cell_type": "code",
   "execution_count": null,
   "metadata": {},
   "outputs": [],
   "source": [
    "def get_most_frequent_credit(x):\n",
    "    x = x.value_counts()\n",
    "    x = sorted([(i,j) for i,j in zip(x.index, x.values)], key = lambda x : (-x[1], -x[0]))\n",
    "    return x[0][0]\n",
    "\n",
    "# train_credit_freq = train.groupby(['card_ID'], as_index=False).agg({'credit': get_most_frequent_credit}).sort_values('card_ID')\n",
    "# train_unique = train.drop_duplicates(subset = 'card_ID')\n",
    "# train_unique =  train_unique.sort_values(by=['card_ID'])\n",
    "# train_unique.drop(\"credit\", 1, inplace = True)\n",
    "# train_unique = train_unique.reset_index()\n",
    "# train_unique.drop('level_0', 1, inplace = True)\n",
    "# train_unique['credit'] = train_credit_freq['credit']\n",
    "# train_credit_freq['credit'].value_counts()"
   ]
  },
  {
   "cell_type": "code",
   "execution_count": null,
   "metadata": {},
   "outputs": [],
   "source": [
    "test.head()"
   ]
  },
  {
   "cell_type": "code",
   "execution_count": null,
   "metadata": {},
   "outputs": [],
   "source": [
    "# train_unique.to_pickle(\"data/train_by_card_ID.pkl\")\n",
    "train.to_pickle(\"data/train_adjusted.pkl\")\n",
    "test.to_pickle(\"data/test_adjusted.pkl\")"
   ]
  }
 ],
 "metadata": {
  "kernelspec": {
   "display_name": "Python 3",
   "language": "python",
   "name": "python3"
  },
  "language_info": {
   "codemirror_mode": {
    "name": "ipython",
    "version": 3
   },
   "file_extension": ".py",
   "mimetype": "text/x-python",
   "name": "python",
   "nbconvert_exporter": "python",
   "pygments_lexer": "ipython3",
   "version": "3.8.8"
  }
 },
 "nbformat": 4,
 "nbformat_minor": 4
}
