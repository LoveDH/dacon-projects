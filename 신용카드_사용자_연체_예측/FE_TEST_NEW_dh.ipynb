{
 "cells": [
  {
   "cell_type": "code",
   "execution_count": 1,
   "metadata": {},
   "outputs": [
    {
     "data": {
      "text/html": [
       "<style type='text/css'>\n",
       ".datatable table.frame { margin-bottom: 0; }\n",
       ".datatable table.frame thead { border-bottom: none; }\n",
       ".datatable table.frame tr.coltypes td {  color: #FFFFFF;  line-height: 6px;  padding: 0 0.5em;}\n",
       ".datatable .bool    { background: #DDDD99; }\n",
       ".datatable .object  { background: #565656; }\n",
       ".datatable .int     { background: #5D9E5D; }\n",
       ".datatable .float   { background: #4040CC; }\n",
       ".datatable .str     { background: #CC4040; }\n",
       ".datatable .row_index {  background: var(--jp-border-color3);  border-right: 1px solid var(--jp-border-color0);  color: var(--jp-ui-font-color3);  font-size: 9px;}\n",
       ".datatable .frame tr.coltypes .row_index {  background: var(--jp-border-color0);}\n",
       ".datatable th:nth-child(2) { padding-left: 12px; }\n",
       ".datatable .hellipsis {  color: var(--jp-cell-editor-border-color);}\n",
       ".datatable .vellipsis {  background: var(--jp-layout-color0);  color: var(--jp-cell-editor-border-color);}\n",
       ".datatable .na {  color: var(--jp-cell-editor-border-color);  font-size: 80%;}\n",
       ".datatable .footer { font-size: 9px; }\n",
       ".datatable .frame_dimensions {  background: var(--jp-border-color3);  border-top: 1px solid var(--jp-border-color0);  color: var(--jp-ui-font-color3);  display: inline-block;  opacity: 0.6;  padding: 1px 10px 1px 5px;}\n",
       "</style>\n"
      ],
      "text/plain": [
       "<IPython.core.display.HTML object>"
      ]
     },
     "metadata": {},
     "output_type": "display_data"
    }
   ],
   "source": [
    "import warnings\n",
    "warnings.filterwarnings('ignore')\n",
    "\n",
    "import os, sys, gc, warnings, random, datetime\n",
    "\n",
    "import pandas as pd\n",
    "import numpy as np\n",
    "\n",
    "from sklearn.preprocessing import LabelEncoder\n",
    "from sklearn.metrics import  accuracy_score ,log_loss\n",
    "from sklearn.model_selection import StratifiedKFold\n",
    "\n",
    "import lightgbm as lgb\n",
    "# from catboost import CatBoostClassifier, Pool\n",
    "# import catboost as cb\n",
    "\n",
    "from matplotlib import pyplot as plt\n",
    "import seaborn as sns\n",
    "\n",
    "from IPython.display import display\n",
    "from sklearn.model_selection import train_test_split\n",
    "\n",
    "# pd.options.display.max_rows = 10000\n",
    "pd.options.display.max_columns = 1000\n",
    "# pd.options.display.max_colwidth = 1000"
   ]
  },
  {
   "cell_type": "code",
   "execution_count": 2,
   "metadata": {},
   "outputs": [],
   "source": [
    "from IPython.core.interactiveshell import InteractiveShell\n",
    "InteractiveShell.ast_node_interactivity = \"all\""
   ]
  },
  {
   "cell_type": "code",
   "execution_count": 3,
   "metadata": {},
   "outputs": [],
   "source": [
    "def seed_everything(seed=0):\n",
    "    random.seed(seed)\n",
    "    os.environ['PYTHONHASHSEED'] = str(seed)\n",
    "    np.random.seed(seed)\n",
    "    \n",
    "SEED = 2021\n",
    "seed_everything(SEED)\n",
    "TARGET = 'credit'\n",
    "LOCAL_TEST = True\n",
    "MAKE_MODEL_TEST = True"
   ]
  },
  {
   "cell_type": "code",
   "execution_count": 4,
   "metadata": {},
   "outputs": [],
   "source": [
    "train = pd.read_pickle(\"data/train_adjusted.pkl\")\n",
    "test = pd.read_pickle(\"data/test_adjusted.pkl\")\n",
    "sub = pd.read_csv(\"data/sample_submission.csv\")"
   ]
  },
  {
   "cell_type": "code",
   "execution_count": 5,
   "metadata": {
    "scrolled": false
   },
   "outputs": [
    {
     "name": "stdout",
     "output_type": "stream",
     "text": [
      "(36457, 18)\n"
     ]
    },
    {
     "data": {
      "text/html": [
       "<div>\n",
       "<style scoped>\n",
       "    .dataframe tbody tr th:only-of-type {\n",
       "        vertical-align: middle;\n",
       "    }\n",
       "\n",
       "    .dataframe tbody tr th {\n",
       "        vertical-align: top;\n",
       "    }\n",
       "\n",
       "    .dataframe thead th {\n",
       "        text-align: right;\n",
       "    }\n",
       "</style>\n",
       "<table border=\"1\" class=\"dataframe\">\n",
       "  <thead>\n",
       "    <tr style=\"text-align: right;\">\n",
       "      <th></th>\n",
       "      <th>gender</th>\n",
       "      <th>car</th>\n",
       "      <th>reality</th>\n",
       "      <th>child_num</th>\n",
       "      <th>income_total</th>\n",
       "      <th>income_type</th>\n",
       "      <th>edu_type</th>\n",
       "      <th>family_type</th>\n",
       "      <th>house_type</th>\n",
       "      <th>DAYS_BIRTH</th>\n",
       "      <th>DAYS_EMPLOYED</th>\n",
       "      <th>work_phone</th>\n",
       "      <th>phone</th>\n",
       "      <th>email</th>\n",
       "      <th>occyp_type</th>\n",
       "      <th>family_size</th>\n",
       "      <th>begin_month</th>\n",
       "      <th>card_ID</th>\n",
       "    </tr>\n",
       "  </thead>\n",
       "  <tbody>\n",
       "    <tr>\n",
       "      <th>0</th>\n",
       "      <td>F</td>\n",
       "      <td>N</td>\n",
       "      <td>N</td>\n",
       "      <td>0</td>\n",
       "      <td>202500.0</td>\n",
       "      <td>Commercial associate</td>\n",
       "      <td>Higher education</td>\n",
       "      <td>Married</td>\n",
       "      <td>Municipal apartment</td>\n",
       "      <td>13899</td>\n",
       "      <td>4709</td>\n",
       "      <td>0</td>\n",
       "      <td>0</td>\n",
       "      <td>0</td>\n",
       "      <td>NaN</td>\n",
       "      <td>2.0</td>\n",
       "      <td>6.0</td>\n",
       "      <td>4709_202500.0_13899_6.0</td>\n",
       "    </tr>\n",
       "    <tr>\n",
       "      <th>1</th>\n",
       "      <td>F</td>\n",
       "      <td>N</td>\n",
       "      <td>Y</td>\n",
       "      <td>1</td>\n",
       "      <td>247500.0</td>\n",
       "      <td>Commercial associate</td>\n",
       "      <td>Secondary / secondary special</td>\n",
       "      <td>Civil marriage</td>\n",
       "      <td>House / apartment</td>\n",
       "      <td>11380</td>\n",
       "      <td>1540</td>\n",
       "      <td>0</td>\n",
       "      <td>0</td>\n",
       "      <td>1</td>\n",
       "      <td>Laborers</td>\n",
       "      <td>3.0</td>\n",
       "      <td>5.0</td>\n",
       "      <td>1540_247500.0_11380_5.0</td>\n",
       "    </tr>\n",
       "    <tr>\n",
       "      <th>2</th>\n",
       "      <td>M</td>\n",
       "      <td>Y</td>\n",
       "      <td>Y</td>\n",
       "      <td>0</td>\n",
       "      <td>450000.0</td>\n",
       "      <td>Working</td>\n",
       "      <td>Higher education</td>\n",
       "      <td>Married</td>\n",
       "      <td>House / apartment</td>\n",
       "      <td>19087</td>\n",
       "      <td>4434</td>\n",
       "      <td>0</td>\n",
       "      <td>1</td>\n",
       "      <td>0</td>\n",
       "      <td>Managers</td>\n",
       "      <td>2.0</td>\n",
       "      <td>22.0</td>\n",
       "      <td>4434_450000.0_19087_22.0</td>\n",
       "    </tr>\n",
       "    <tr>\n",
       "      <th>3</th>\n",
       "      <td>F</td>\n",
       "      <td>N</td>\n",
       "      <td>Y</td>\n",
       "      <td>0</td>\n",
       "      <td>202500.0</td>\n",
       "      <td>Commercial associate</td>\n",
       "      <td>Secondary / secondary special</td>\n",
       "      <td>Married</td>\n",
       "      <td>House / apartment</td>\n",
       "      <td>15088</td>\n",
       "      <td>2092</td>\n",
       "      <td>0</td>\n",
       "      <td>1</td>\n",
       "      <td>0</td>\n",
       "      <td>Sales staff</td>\n",
       "      <td>2.0</td>\n",
       "      <td>37.0</td>\n",
       "      <td>2092_202500.0_15088_37.0</td>\n",
       "    </tr>\n",
       "    <tr>\n",
       "      <th>4</th>\n",
       "      <td>F</td>\n",
       "      <td>Y</td>\n",
       "      <td>Y</td>\n",
       "      <td>0</td>\n",
       "      <td>157500.0</td>\n",
       "      <td>State servant</td>\n",
       "      <td>Higher education</td>\n",
       "      <td>Married</td>\n",
       "      <td>House / apartment</td>\n",
       "      <td>15037</td>\n",
       "      <td>2105</td>\n",
       "      <td>0</td>\n",
       "      <td>0</td>\n",
       "      <td>0</td>\n",
       "      <td>Managers</td>\n",
       "      <td>2.0</td>\n",
       "      <td>26.0</td>\n",
       "      <td>2105_157500.0_15037_26.0</td>\n",
       "    </tr>\n",
       "  </tbody>\n",
       "</table>\n",
       "</div>"
      ],
      "text/plain": [
       "  gender car reality  child_num  income_total           income_type  \\\n",
       "0      F   N       N          0      202500.0  Commercial associate   \n",
       "1      F   N       Y          1      247500.0  Commercial associate   \n",
       "2      M   Y       Y          0      450000.0               Working   \n",
       "3      F   N       Y          0      202500.0  Commercial associate   \n",
       "4      F   Y       Y          0      157500.0         State servant   \n",
       "\n",
       "                        edu_type     family_type           house_type  \\\n",
       "0               Higher education         Married  Municipal apartment   \n",
       "1  Secondary / secondary special  Civil marriage    House / apartment   \n",
       "2               Higher education         Married    House / apartment   \n",
       "3  Secondary / secondary special         Married    House / apartment   \n",
       "4               Higher education         Married    House / apartment   \n",
       "\n",
       "   DAYS_BIRTH  DAYS_EMPLOYED  work_phone  phone  email   occyp_type  \\\n",
       "0       13899           4709           0      0      0          NaN   \n",
       "1       11380           1540           0      0      1     Laborers   \n",
       "2       19087           4434           0      1      0     Managers   \n",
       "3       15088           2092           0      1      0  Sales staff   \n",
       "4       15037           2105           0      0      0     Managers   \n",
       "\n",
       "   family_size  begin_month                   card_ID  \n",
       "0          2.0          6.0   4709_202500.0_13899_6.0  \n",
       "1          3.0          5.0   1540_247500.0_11380_5.0  \n",
       "2          2.0         22.0  4434_450000.0_19087_22.0  \n",
       "3          2.0         37.0  2092_202500.0_15088_37.0  \n",
       "4          2.0         26.0  2105_157500.0_15037_26.0  "
      ]
     },
     "execution_count": 5,
     "metadata": {},
     "output_type": "execute_result"
    }
   ],
   "source": [
    "df = pd.concat([train.drop(['index','credit'],1), test.drop(['index'],1)], axis=0)\n",
    "print(df.shape)\n",
    "df.head()"
   ]
  },
  {
   "cell_type": "code",
   "execution_count": 6,
   "metadata": {},
   "outputs": [
    {
     "name": "stdout",
     "output_type": "stream",
     "text": [
      "18 9 9\n"
     ]
    }
   ],
   "source": [
    "cat_cols = [x for x in df.columns if df[x].dtype == 'object']\n",
    "num_cols = [x for x in df.columns if x not in cat_cols + [TARGET]]\n",
    "feature_cols = num_cols + cat_cols\n",
    "print(len(feature_cols), len(cat_cols), len(num_cols))"
   ]
  },
  {
   "cell_type": "code",
   "execution_count": 7,
   "metadata": {
    "scrolled": true
   },
   "outputs": [
    {
     "data": {
      "text/plain": [
       "['child_num',\n",
       " 'income_total',\n",
       " 'DAYS_BIRTH',\n",
       " 'DAYS_EMPLOYED',\n",
       " 'work_phone',\n",
       " 'phone',\n",
       " 'email',\n",
       " 'family_size',\n",
       " 'begin_month']"
      ]
     },
     "execution_count": 7,
     "metadata": {},
     "output_type": "execute_result"
    }
   ],
   "source": [
    "num_cols"
   ]
  },
  {
   "cell_type": "code",
   "execution_count": 8,
   "metadata": {},
   "outputs": [],
   "source": [
    "lbe = LabelEncoder()\n",
    "for col in cat_cols:\n",
    "    df[col] = lbe.fit_transform(df[col])"
   ]
  },
  {
   "cell_type": "code",
   "execution_count": 9,
   "metadata": {},
   "outputs": [
    {
     "data": {
      "text/html": [
       "<div>\n",
       "<style scoped>\n",
       "    .dataframe tbody tr th:only-of-type {\n",
       "        vertical-align: middle;\n",
       "    }\n",
       "\n",
       "    .dataframe tbody tr th {\n",
       "        vertical-align: top;\n",
       "    }\n",
       "\n",
       "    .dataframe thead th {\n",
       "        text-align: right;\n",
       "    }\n",
       "</style>\n",
       "<table border=\"1\" class=\"dataframe\">\n",
       "  <thead>\n",
       "    <tr style=\"text-align: right;\">\n",
       "      <th></th>\n",
       "      <th>gender</th>\n",
       "      <th>car</th>\n",
       "      <th>reality</th>\n",
       "      <th>income_type</th>\n",
       "      <th>edu_type</th>\n",
       "      <th>family_type</th>\n",
       "      <th>house_type</th>\n",
       "      <th>occyp_type</th>\n",
       "      <th>card_ID</th>\n",
       "    </tr>\n",
       "  </thead>\n",
       "  <tbody>\n",
       "    <tr>\n",
       "      <th>0</th>\n",
       "      <td>0</td>\n",
       "      <td>0</td>\n",
       "      <td>0</td>\n",
       "      <td>0</td>\n",
       "      <td>1</td>\n",
       "      <td>1</td>\n",
       "      <td>2</td>\n",
       "      <td>18</td>\n",
       "      <td>24679</td>\n",
       "    </tr>\n",
       "    <tr>\n",
       "      <th>1</th>\n",
       "      <td>0</td>\n",
       "      <td>0</td>\n",
       "      <td>1</td>\n",
       "      <td>0</td>\n",
       "      <td>4</td>\n",
       "      <td>0</td>\n",
       "      <td>1</td>\n",
       "      <td>8</td>\n",
       "      <td>4690</td>\n",
       "    </tr>\n",
       "    <tr>\n",
       "      <th>2</th>\n",
       "      <td>1</td>\n",
       "      <td>1</td>\n",
       "      <td>1</td>\n",
       "      <td>4</td>\n",
       "      <td>1</td>\n",
       "      <td>1</td>\n",
       "      <td>1</td>\n",
       "      <td>10</td>\n",
       "      <td>23929</td>\n",
       "    </tr>\n",
       "    <tr>\n",
       "      <th>3</th>\n",
       "      <td>0</td>\n",
       "      <td>0</td>\n",
       "      <td>1</td>\n",
       "      <td>0</td>\n",
       "      <td>4</td>\n",
       "      <td>1</td>\n",
       "      <td>1</td>\n",
       "      <td>14</td>\n",
       "      <td>8501</td>\n",
       "    </tr>\n",
       "    <tr>\n",
       "      <th>4</th>\n",
       "      <td>0</td>\n",
       "      <td>1</td>\n",
       "      <td>1</td>\n",
       "      <td>2</td>\n",
       "      <td>1</td>\n",
       "      <td>1</td>\n",
       "      <td>1</td>\n",
       "      <td>10</td>\n",
       "      <td>8571</td>\n",
       "    </tr>\n",
       "  </tbody>\n",
       "</table>\n",
       "</div>"
      ],
      "text/plain": [
       "   gender  car  reality  income_type  edu_type  family_type  house_type  \\\n",
       "0       0    0        0            0         1            1           2   \n",
       "1       0    0        1            0         4            0           1   \n",
       "2       1    1        1            4         1            1           1   \n",
       "3       0    0        1            0         4            1           1   \n",
       "4       0    1        1            2         1            1           1   \n",
       "\n",
       "   occyp_type  card_ID  \n",
       "0          18    24679  \n",
       "1           8     4690  \n",
       "2          10    23929  \n",
       "3          14     8501  \n",
       "4          10     8571  "
      ]
     },
     "execution_count": 9,
     "metadata": {},
     "output_type": "execute_result"
    }
   ],
   "source": [
    "df[cat_cols].head()"
   ]
  },
  {
   "cell_type": "code",
   "execution_count": 10,
   "metadata": {},
   "outputs": [],
   "source": [
    "from tensorflow import keras\n",
    "\n",
    "encoding_dim = 32\n",
    "\n",
    "def get_model(encoding_dim, dropout=.2):\n",
    "    num_dim = len(num_cols)\n",
    "    num_input = keras.layers.Input((num_dim,), name='num_input')\n",
    "    cat_inputs = []\n",
    "    cat_embs = []\n",
    "    emb_dims = 0\n",
    "    for col in cat_cols:\n",
    "        cat_input = keras.layers.Input((1,), name=f'{col}_input')\n",
    "        emb_dim = max(8, int(np.log2(1 + df[col].nunique()) * 4))\n",
    "        cat_emb = keras.layers.Embedding(input_dim=df[col].max() + 1, output_dim=emb_dim)(cat_input)\n",
    "        cat_emb = keras.layers.Dropout(dropout)(cat_emb)\n",
    "        cat_emb = keras.layers.Reshape((emb_dim,))(cat_emb)\n",
    "\n",
    "        cat_inputs.append(cat_input)\n",
    "        cat_embs.append(cat_emb)\n",
    "        emb_dims += emb_dim\n",
    "\n",
    "    merged_inputs = keras.layers.Concatenate()([num_input] + cat_embs)\n",
    "\n",
    "    encoded = keras.layers.Dense(encoding_dim * 3, activation='relu')(merged_inputs)\n",
    "    encoded = keras.layers.Dropout(dropout)(encoded)\n",
    "    encoded = keras.layers.Dense(encoding_dim * 2, activation='relu')(encoded)\n",
    "    encoded = keras.layers.Dropout(dropout)(encoded)    \n",
    "    encoded = keras.layers.Dense(encoding_dim, activation='relu')(encoded)\n",
    "    \n",
    "    decoded = keras.layers.Dense(encoding_dim * 2, activation='relu')(encoded)\n",
    "    decoded = keras.layers.Dropout(dropout)(decoded)\n",
    "    decoded = keras.layers.Dense(encoding_dim * 3, activation='relu')(decoded)\n",
    "    decoded = keras.layers.Dropout(dropout)(decoded)    \n",
    "    decoded = keras.layers.Dense(num_dim + emb_dims, activation='linear')(encoded)\n",
    "\n",
    "    encoder = keras.Model([num_input] + cat_inputs, encoded)\n",
    "    ae = keras.Model([num_input] + cat_inputs, decoded)\n",
    "    ae.add_loss(keras.losses.mean_squared_error(merged_inputs, decoded))\n",
    "    ae.compile(optimizer='adam')\n",
    "    return ae, encoder"
   ]
  },
  {
   "cell_type": "code",
   "execution_count": 11,
   "metadata": {},
   "outputs": [
    {
     "name": "stdout",
     "output_type": "stream",
     "text": [
      "Model: \"model_1\"\n",
      "__________________________________________________________________________________________________\n",
      "Layer (type)                    Output Shape         Param #     Connected to                     \n",
      "==================================================================================================\n",
      "gender_input (InputLayer)       [(None, 1)]          0                                            \n",
      "__________________________________________________________________________________________________\n",
      "car_input (InputLayer)          [(None, 1)]          0                                            \n",
      "__________________________________________________________________________________________________\n",
      "reality_input (InputLayer)      [(None, 1)]          0                                            \n",
      "__________________________________________________________________________________________________\n",
      "income_type_input (InputLayer)  [(None, 1)]          0                                            \n",
      "__________________________________________________________________________________________________\n",
      "edu_type_input (InputLayer)     [(None, 1)]          0                                            \n",
      "__________________________________________________________________________________________________\n",
      "family_type_input (InputLayer)  [(None, 1)]          0                                            \n",
      "__________________________________________________________________________________________________\n",
      "house_type_input (InputLayer)   [(None, 1)]          0                                            \n",
      "__________________________________________________________________________________________________\n",
      "occyp_type_input (InputLayer)   [(None, 1)]          0                                            \n",
      "__________________________________________________________________________________________________\n",
      "card_ID_input (InputLayer)      [(None, 1)]          0                                            \n",
      "__________________________________________________________________________________________________\n",
      "embedding (Embedding)           (None, 1, 8)         16          gender_input[0][0]               \n",
      "__________________________________________________________________________________________________\n",
      "embedding_1 (Embedding)         (None, 1, 8)         16          car_input[0][0]                  \n",
      "__________________________________________________________________________________________________\n",
      "embedding_2 (Embedding)         (None, 1, 8)         16          reality_input[0][0]              \n",
      "__________________________________________________________________________________________________\n",
      "embedding_3 (Embedding)         (None, 1, 10)        50          income_type_input[0][0]          \n",
      "__________________________________________________________________________________________________\n",
      "embedding_4 (Embedding)         (None, 1, 10)        50          edu_type_input[0][0]             \n",
      "__________________________________________________________________________________________________\n",
      "embedding_5 (Embedding)         (None, 1, 10)        50          family_type_input[0][0]          \n",
      "__________________________________________________________________________________________________\n",
      "embedding_6 (Embedding)         (None, 1, 11)        66          house_type_input[0][0]           \n",
      "__________________________________________________________________________________________________\n",
      "embedding_7 (Embedding)         (None, 1, 17)        323         occyp_type_input[0][0]           \n",
      "__________________________________________________________________________________________________\n",
      "embedding_8 (Embedding)         (None, 1, 59)        1893428     card_ID_input[0][0]              \n",
      "__________________________________________________________________________________________________\n",
      "dropout (Dropout)               (None, 1, 8)         0           embedding[0][0]                  \n",
      "__________________________________________________________________________________________________\n",
      "dropout_1 (Dropout)             (None, 1, 8)         0           embedding_1[0][0]                \n",
      "__________________________________________________________________________________________________\n",
      "dropout_2 (Dropout)             (None, 1, 8)         0           embedding_2[0][0]                \n",
      "__________________________________________________________________________________________________\n",
      "dropout_3 (Dropout)             (None, 1, 10)        0           embedding_3[0][0]                \n",
      "__________________________________________________________________________________________________\n",
      "dropout_4 (Dropout)             (None, 1, 10)        0           embedding_4[0][0]                \n",
      "__________________________________________________________________________________________________\n",
      "dropout_5 (Dropout)             (None, 1, 10)        0           embedding_5[0][0]                \n",
      "__________________________________________________________________________________________________\n",
      "dropout_6 (Dropout)             (None, 1, 11)        0           embedding_6[0][0]                \n",
      "__________________________________________________________________________________________________\n",
      "dropout_7 (Dropout)             (None, 1, 17)        0           embedding_7[0][0]                \n",
      "__________________________________________________________________________________________________\n",
      "dropout_8 (Dropout)             (None, 1, 59)        0           embedding_8[0][0]                \n",
      "__________________________________________________________________________________________________\n",
      "num_input (InputLayer)          [(None, 9)]          0                                            \n",
      "__________________________________________________________________________________________________\n",
      "reshape (Reshape)               (None, 8)            0           dropout[0][0]                    \n",
      "__________________________________________________________________________________________________\n",
      "reshape_1 (Reshape)             (None, 8)            0           dropout_1[0][0]                  \n",
      "__________________________________________________________________________________________________\n",
      "reshape_2 (Reshape)             (None, 8)            0           dropout_2[0][0]                  \n",
      "__________________________________________________________________________________________________\n",
      "reshape_3 (Reshape)             (None, 10)           0           dropout_3[0][0]                  \n",
      "__________________________________________________________________________________________________\n",
      "reshape_4 (Reshape)             (None, 10)           0           dropout_4[0][0]                  \n",
      "__________________________________________________________________________________________________\n",
      "reshape_5 (Reshape)             (None, 10)           0           dropout_5[0][0]                  \n",
      "__________________________________________________________________________________________________\n",
      "reshape_6 (Reshape)             (None, 11)           0           dropout_6[0][0]                  \n",
      "__________________________________________________________________________________________________\n",
      "reshape_7 (Reshape)             (None, 17)           0           dropout_7[0][0]                  \n",
      "__________________________________________________________________________________________________\n",
      "reshape_8 (Reshape)             (None, 59)           0           dropout_8[0][0]                  \n",
      "__________________________________________________________________________________________________\n",
      "concatenate (Concatenate)       (None, 150)          0           num_input[0][0]                  \n",
      "                                                                 reshape[0][0]                    \n",
      "                                                                 reshape_1[0][0]                  \n",
      "                                                                 reshape_2[0][0]                  \n",
      "                                                                 reshape_3[0][0]                  \n",
      "                                                                 reshape_4[0][0]                  \n",
      "                                                                 reshape_5[0][0]                  \n",
      "                                                                 reshape_6[0][0]                  \n",
      "                                                                 reshape_7[0][0]                  \n",
      "                                                                 reshape_8[0][0]                  \n",
      "__________________________________________________________________________________________________\n",
      "dense (Dense)                   (None, 96)           14496       concatenate[0][0]                \n",
      "__________________________________________________________________________________________________\n",
      "dropout_9 (Dropout)             (None, 96)           0           dense[0][0]                      \n",
      "__________________________________________________________________________________________________\n",
      "dense_1 (Dense)                 (None, 64)           6208        dropout_9[0][0]                  \n",
      "__________________________________________________________________________________________________\n",
      "dropout_10 (Dropout)            (None, 64)           0           dense_1[0][0]                    \n",
      "__________________________________________________________________________________________________\n",
      "dense_2 (Dense)                 (None, 32)           2080        dropout_10[0][0]                 \n",
      "__________________________________________________________________________________________________\n",
      "dense_5 (Dense)                 (None, 150)          4950        dense_2[0][0]                    \n",
      "__________________________________________________________________________________________________\n",
      "tf.convert_to_tensor (TFOpLambd (None, 150)          0           dense_5[0][0]                    \n",
      "__________________________________________________________________________________________________\n",
      "tf.cast (TFOpLambda)            (None, 150)          0           concatenate[0][0]                \n",
      "__________________________________________________________________________________________________\n",
      "tf.math.squared_difference (TFO (None, 150)          0           tf.convert_to_tensor[0][0]       \n",
      "                                                                 tf.cast[0][0]                    \n",
      "__________________________________________________________________________________________________\n",
      "tf.math.reduce_mean (TFOpLambda (None,)              0           tf.math.squared_difference[0][0] \n",
      "__________________________________________________________________________________________________\n",
      "add_loss (AddLoss)              (None,)              0           tf.math.reduce_mean[0][0]        \n",
      "==================================================================================================\n",
      "Total params: 1,921,749\n",
      "Trainable params: 1,921,749\n",
      "Non-trainable params: 0\n",
      "__________________________________________________________________________________________________\n"
     ]
    }
   ],
   "source": [
    "ae, encoder = get_model(encoding_dim)\n",
    "ae.summary()"
   ]
  },
  {
   "cell_type": "code",
   "execution_count": 12,
   "metadata": {
    "scrolled": true
   },
   "outputs": [
    {
     "name": "stdout",
     "output_type": "stream",
     "text": [
      "Epoch 1/100\n",
      "2/2 [==============================] - 4s 3s/step - loss: 485264085.3333 - val_loss: 449922144.0000\n",
      "Epoch 2/100\n",
      "2/2 [==============================] - 0s 186ms/step - loss: 465816576.0000 - val_loss: 438440544.0000\n",
      "Epoch 3/100\n",
      "2/2 [==============================] - 0s 167ms/step - loss: 451921952.0000 - val_loss: 429475552.0000\n",
      "Epoch 4/100\n",
      "2/2 [==============================] - 0s 170ms/step - loss: 439895509.3333 - val_loss: 422303296.0000\n",
      "Epoch 5/100\n",
      "2/2 [==============================] - 0s 213ms/step - loss: 432864010.6667 - val_loss: 416010048.0000\n",
      "Epoch 6/100\n",
      "2/2 [==============================] - 0s 199ms/step - loss: 427038506.6667 - val_loss: 410303072.0000\n",
      "Epoch 7/100\n",
      "2/2 [==============================] - 0s 186ms/step - loss: 420202709.3333 - val_loss: 404160704.0000\n",
      "Epoch 8/100\n",
      "2/2 [==============================] - 0s 198ms/step - loss: 412136288.0000 - val_loss: 397002432.0000\n",
      "Epoch 9/100\n",
      "2/2 [==============================] - 0s 184ms/step - loss: 402470282.6667 - val_loss: 388936128.0000\n",
      "Epoch 10/100\n",
      "2/2 [==============================] - 0s 170ms/step - loss: 395034240.0000 - val_loss: 379820224.0000\n",
      "Epoch 11/100\n",
      "2/2 [==============================] - 0s 165ms/step - loss: 387730730.6667 - val_loss: 368464064.0000\n",
      "Epoch 12/100\n",
      "2/2 [==============================] - 0s 166ms/step - loss: 377079605.3333 - val_loss: 355369408.0000\n",
      "Epoch 13/100\n",
      "2/2 [==============================] - 0s 167ms/step - loss: 361982464.0000 - val_loss: 340278688.0000\n",
      "Epoch 14/100\n",
      "2/2 [==============================] - 0s 164ms/step - loss: 347727338.6667 - val_loss: 321862240.0000\n",
      "Epoch 15/100\n",
      "2/2 [==============================] - 0s 170ms/step - loss: 330985280.0000 - val_loss: 302372544.0000\n",
      "Epoch 16/100\n",
      "2/2 [==============================] - 0s 164ms/step - loss: 313516970.6667 - val_loss: 282340864.0000\n",
      "Epoch 17/100\n",
      "2/2 [==============================] - 0s 168ms/step - loss: 296233066.6667 - val_loss: 261609136.0000\n",
      "Epoch 18/100\n",
      "2/2 [==============================] - 0s 166ms/step - loss: 278236138.6667 - val_loss: 241250368.0000\n",
      "Epoch 19/100\n",
      "2/2 [==============================] - 0s 171ms/step - loss: 260590362.6667 - val_loss: 222050640.0000\n",
      "Epoch 20/100\n",
      "2/2 [==============================] - 0s 173ms/step - loss: 244934784.0000 - val_loss: 204867424.0000\n",
      "Epoch 21/100\n",
      "2/2 [==============================] - 0s 165ms/step - loss: 230412405.3333 - val_loss: 190122112.0000\n",
      "Epoch 22/100\n",
      "2/2 [==============================] - 0s 166ms/step - loss: 219335904.0000 - val_loss: 177378288.0000\n",
      "Epoch 23/100\n",
      "2/2 [==============================] - 0s 175ms/step - loss: 206812154.6667 - val_loss: 166270800.0000\n",
      "Epoch 24/100\n",
      "2/2 [==============================] - 0s 163ms/step - loss: 196413781.3333 - val_loss: 155364192.0000\n",
      "Epoch 25/100\n",
      "2/2 [==============================] - 0s 176ms/step - loss: 186162698.6667 - val_loss: 145302672.0000\n",
      "Epoch 26/100\n",
      "2/2 [==============================] - 0s 166ms/step - loss: 175524277.3333 - val_loss: 136097392.0000\n",
      "Epoch 27/100\n",
      "2/2 [==============================] - 0s 167ms/step - loss: 165959792.0000 - val_loss: 127198504.0000\n",
      "Epoch 28/100\n",
      "2/2 [==============================] - 0s 166ms/step - loss: 155603877.3333 - val_loss: 118277768.0000\n",
      "Epoch 29/100\n",
      "2/2 [==============================] - 0s 161ms/step - loss: 145809397.3333 - val_loss: 109147736.0000\n",
      "Epoch 30/100\n",
      "2/2 [==============================] - 0s 174ms/step - loss: 136509248.0000 - val_loss: 99757088.0000\n",
      "Epoch 31/100\n",
      "2/2 [==============================] - 0s 167ms/step - loss: 126219818.6667 - val_loss: 90087736.0000\n",
      "Epoch 32/100\n",
      "2/2 [==============================] - 0s 171ms/step - loss: 116457952.0000 - val_loss: 80174328.0000\n",
      "Epoch 33/100\n",
      "2/2 [==============================] - 0s 163ms/step - loss: 106361488.0000 - val_loss: 70119840.0000\n",
      "Epoch 34/100\n",
      "2/2 [==============================] - 0s 158ms/step - loss: 96993024.0000 - val_loss: 60116084.0000\n",
      "Epoch 35/100\n",
      "2/2 [==============================] - 0s 157ms/step - loss: 87361850.6667 - val_loss: 50592924.0000\n",
      "Epoch 36/100\n",
      "2/2 [==============================] - 0s 170ms/step - loss: 77991376.0000 - val_loss: 41747076.0000\n",
      "Epoch 37/100\n",
      "2/2 [==============================] - 0s 159ms/step - loss: 69547162.6667 - val_loss: 33763780.0000\n",
      "Epoch 38/100\n",
      "2/2 [==============================] - 0s 167ms/step - loss: 61749801.3333 - val_loss: 26779976.0000\n",
      "Epoch 39/100\n",
      "2/2 [==============================] - 0s 162ms/step - loss: 54711581.3333 - val_loss: 20811468.0000\n",
      "Epoch 40/100\n",
      "2/2 [==============================] - 0s 175ms/step - loss: 48348397.3333 - val_loss: 15911138.0000\n",
      "Epoch 41/100\n",
      "2/2 [==============================] - 0s 163ms/step - loss: 43661310.6667 - val_loss: 12142886.0000\n",
      "Epoch 42/100\n",
      "2/2 [==============================] - 0s 165ms/step - loss: 39553996.0000 - val_loss: 9468271.0000\n",
      "Epoch 43/100\n",
      "2/2 [==============================] - 0s 192ms/step - loss: 36600504.0000 - val_loss: 7616744.5000\n",
      "Epoch 44/100\n",
      "2/2 [==============================] - 0s 160ms/step - loss: 34666426.6667 - val_loss: 6493863.0000\n",
      "Epoch 45/100\n",
      "2/2 [==============================] - 0s 160ms/step - loss: 32939046.6667 - val_loss: 5882794.0000\n",
      "Epoch 46/100\n",
      "2/2 [==============================] - 0s 169ms/step - loss: 31067406.6667 - val_loss: 5562009.0000\n",
      "Epoch 47/100\n",
      "2/2 [==============================] - 0s 156ms/step - loss: 30862686.6667 - val_loss: 5418263.0000\n",
      "Epoch 48/100\n",
      "2/2 [==============================] - 0s 161ms/step - loss: 29769844.6667 - val_loss: 5422908.0000\n",
      "Epoch 49/100\n",
      "2/2 [==============================] - 0s 159ms/step - loss: 28612790.6667 - val_loss: 5423349.5000\n",
      "Epoch 50/100\n",
      "2/2 [==============================] - 0s 157ms/step - loss: 27991121.3333 - val_loss: 5273301.0000\n",
      "Epoch 51/100\n",
      "2/2 [==============================] - 0s 158ms/step - loss: 26852766.6667 - val_loss: 5001255.0000\n",
      "Epoch 52/100\n",
      "2/2 [==============================] - 0s 162ms/step - loss: 26177382.0000 - val_loss: 4639766.5000\n",
      "Epoch 53/100\n",
      "2/2 [==============================] - 0s 186ms/step - loss: 25361512.0000 - val_loss: 4226074.0000\n",
      "Epoch 54/100\n",
      "2/2 [==============================] - 0s 177ms/step - loss: 24460525.3333 - val_loss: 3873188.7500\n",
      "Epoch 55/100\n",
      "2/2 [==============================] - 0s 171ms/step - loss: 23940754.6667 - val_loss: 3640776.0000\n",
      "Epoch 56/100\n",
      "2/2 [==============================] - 0s 162ms/step - loss: 22859996.0000 - val_loss: 3568003.7500\n",
      "Epoch 57/100\n",
      "2/2 [==============================] - 0s 159ms/step - loss: 22578344.0000 - val_loss: 3556206.0000\n",
      "Epoch 58/100\n",
      "2/2 [==============================] - 0s 162ms/step - loss: 21974856.0000 - val_loss: 3517518.7500\n",
      "Epoch 59/100\n",
      "2/2 [==============================] - 0s 162ms/step - loss: 21898612.6667 - val_loss: 3373770.5000\n",
      "Epoch 60/100\n",
      "2/2 [==============================] - 0s 173ms/step - loss: 21389669.3333 - val_loss: 3150641.2500\n",
      "Epoch 61/100\n",
      "2/2 [==============================] - 0s 158ms/step - loss: 20951716.0000 - val_loss: 2992018.5000\n",
      "Epoch 62/100\n",
      "2/2 [==============================] - 0s 166ms/step - loss: 20690606.6667 - val_loss: 2898594.2500\n",
      "Epoch 63/100\n",
      "2/2 [==============================] - 0s 166ms/step - loss: 20154961.3333 - val_loss: 2890535.7500\n",
      "Epoch 64/100\n",
      "2/2 [==============================] - 0s 164ms/step - loss: 19759751.3333 - val_loss: 2923124.5000\n",
      "Epoch 65/100\n",
      "2/2 [==============================] - 0s 170ms/step - loss: 19419611.3333 - val_loss: 2897993.2500\n",
      "Epoch 66/100\n",
      "2/2 [==============================] - 0s 167ms/step - loss: 19312880.6667 - val_loss: 2804880.0000\n",
      "Epoch 67/100\n",
      "2/2 [==============================] - 0s 167ms/step - loss: 18712204.0000 - val_loss: 2751058.7500\n",
      "Epoch 68/100\n",
      "2/2 [==============================] - 0s 163ms/step - loss: 18373610.6667 - val_loss: 2689682.5000\n",
      "Epoch 69/100\n",
      "2/2 [==============================] - 0s 160ms/step - loss: 17925530.0000 - val_loss: 2633979.7500\n",
      "Epoch 70/100\n",
      "2/2 [==============================] - 0s 160ms/step - loss: 17959582.0000 - val_loss: 2567778.0000\n",
      "Epoch 71/100\n",
      "2/2 [==============================] - 0s 158ms/step - loss: 17923754.6667 - val_loss: 2483476.0000\n",
      "Epoch 72/100\n"
     ]
    },
    {
     "name": "stdout",
     "output_type": "stream",
     "text": [
      "2/2 [==============================] - 0s 158ms/step - loss: 17819555.3333 - val_loss: 2432065.0000\n",
      "Epoch 73/100\n",
      "2/2 [==============================] - 0s 158ms/step - loss: 17375605.3333 - val_loss: 2364362.7500\n",
      "Epoch 74/100\n",
      "2/2 [==============================] - 0s 164ms/step - loss: 16942820.0000 - val_loss: 2265844.7500\n",
      "Epoch 75/100\n",
      "2/2 [==============================] - 0s 160ms/step - loss: 16795519.6667 - val_loss: 2199305.2500\n",
      "Epoch 76/100\n",
      "2/2 [==============================] - 0s 182ms/step - loss: 16982055.3333 - val_loss: 2207538.2500\n",
      "Epoch 77/100\n",
      "2/2 [==============================] - 0s 160ms/step - loss: 16612372.0000 - val_loss: 2275630.2500\n",
      "Epoch 78/100\n",
      "2/2 [==============================] - 0s 163ms/step - loss: 16227880.6667 - val_loss: 2285716.5000\n",
      "Epoch 79/100\n",
      "2/2 [==============================] - 0s 161ms/step - loss: 16454855.3333 - val_loss: 2214465.7500\n",
      "Epoch 80/100\n",
      "2/2 [==============================] - 0s 169ms/step - loss: 16053379.3333 - val_loss: 2136435.2500\n",
      "Epoch 81/100\n",
      "2/2 [==============================] - 0s 175ms/step - loss: 15869732.6667 - val_loss: 2065828.2500\n",
      "Epoch 82/100\n",
      "2/2 [==============================] - 0s 164ms/step - loss: 15541801.3333 - val_loss: 2024004.6250\n",
      "Epoch 83/100\n",
      "2/2 [==============================] - 0s 168ms/step - loss: 15652274.3333 - val_loss: 2002871.1250\n",
      "Epoch 84/100\n",
      "2/2 [==============================] - 0s 161ms/step - loss: 15391396.6667 - val_loss: 1998107.0000\n",
      "Epoch 85/100\n",
      "2/2 [==============================] - 0s 161ms/step - loss: 15390891.6667 - val_loss: 1974558.0000\n",
      "Epoch 86/100\n",
      "2/2 [==============================] - 0s 168ms/step - loss: 14884272.0000 - val_loss: 1932042.8750\n",
      "Epoch 87/100\n",
      "2/2 [==============================] - 0s 173ms/step - loss: 14852632.0000 - val_loss: 1918497.8750\n",
      "Epoch 88/100\n",
      "2/2 [==============================] - 0s 176ms/step - loss: 14776087.0000 - val_loss: 1921997.5000\n",
      "Epoch 89/100\n",
      "2/2 [==============================] - 0s 161ms/step - loss: 14716405.0000 - val_loss: 1886045.6250\n",
      "Epoch 90/100\n",
      "2/2 [==============================] - 0s 164ms/step - loss: 14357426.6667 - val_loss: 1881793.1250\n",
      "Epoch 91/100\n",
      "2/2 [==============================] - 0s 163ms/step - loss: 14475090.6667 - val_loss: 1880772.6250\n",
      "Epoch 92/100\n",
      "2/2 [==============================] - 0s 165ms/step - loss: 14197952.6667 - val_loss: 1885693.0000\n",
      "Epoch 93/100\n",
      "2/2 [==============================] - 0s 161ms/step - loss: 14209889.3333 - val_loss: 1866732.7500\n",
      "Epoch 94/100\n",
      "2/2 [==============================] - 0s 162ms/step - loss: 13942764.6667 - val_loss: 1752760.0000\n",
      "Epoch 95/100\n",
      "2/2 [==============================] - 0s 164ms/step - loss: 14038574.0000 - val_loss: 1651033.6250\n",
      "Epoch 96/100\n",
      "2/2 [==============================] - 0s 164ms/step - loss: 13668991.0000 - val_loss: 1659605.0000\n",
      "Epoch 97/100\n",
      "2/2 [==============================] - 0s 158ms/step - loss: 13861465.6667 - val_loss: 1704634.7500\n",
      "Epoch 98/100\n",
      "2/2 [==============================] - 0s 165ms/step - loss: 13503413.0000 - val_loss: 1748070.0000\n",
      "Epoch 99/100\n",
      "2/2 [==============================] - 0s 186ms/step - loss: 13369394.6667 - val_loss: 1715920.1250\n",
      "Epoch 100/100\n",
      "2/2 [==============================] - 0s 161ms/step - loss: 13354461.0000 - val_loss: 1679919.3750\n"
     ]
    },
    {
     "data": {
      "text/plain": [
       "<tensorflow.python.keras.callbacks.History at 0x24281c197f0>"
      ]
     },
     "execution_count": 12,
     "metadata": {},
     "output_type": "execute_result"
    }
   ],
   "source": [
    "inputs = [df[num_cols].values] + [df[x].values for x in cat_cols]\n",
    "ae.fit(inputs, inputs,\n",
    "      epochs=100,\n",
    "      batch_size=16384,\n",
    "      shuffle=True,\n",
    "      validation_split=.2)"
   ]
  },
  {
   "cell_type": "code",
   "execution_count": 13,
   "metadata": {},
   "outputs": [
    {
     "name": "stdout",
     "output_type": "stream",
     "text": [
      "(36457, 32)\n"
     ]
    }
   ],
   "source": [
    "encoding = encoder.predict(inputs)\n",
    "print(encoding.shape)"
   ]
  },
  {
   "cell_type": "code",
   "execution_count": 14,
   "metadata": {},
   "outputs": [],
   "source": [
    "y = train[TARGET]\n",
    "n_trn = train.shape[0]"
   ]
  },
  {
   "cell_type": "code",
   "execution_count": 15,
   "metadata": {},
   "outputs": [],
   "source": [
    "df.reset_index(drop=True,inplace=True)"
   ]
  },
  {
   "cell_type": "code",
   "execution_count": 16,
   "metadata": {},
   "outputs": [
    {
     "name": "stdout",
     "output_type": "stream",
     "text": [
      "(26457, 51) (10000, 51)\n"
     ]
    }
   ],
   "source": [
    "df_enc = pd.concat([df[feature_cols], pd.DataFrame(encoding, columns=[f'enc_{x}' for x in range(encoding_dim)])], axis=1)\n",
    "df_enc['credit'] = y\n",
    "train_enc = df_enc.iloc[:n_trn]\n",
    "test_enc = df_enc.iloc[n_trn:]\n",
    "print(train_enc.shape, test_enc.shape)"
   ]
  },
  {
   "cell_type": "code",
   "execution_count": 17,
   "metadata": {},
   "outputs": [],
   "source": [
    "df_train, df_val = train_test_split(train_enc, test_size=0.2, random_state=SEED, stratify=y)"
   ]
  },
  {
   "cell_type": "code",
   "execution_count": 18,
   "metadata": {},
   "outputs": [],
   "source": [
    "def make_test(old_score = 0 , output =False):\n",
    "    features_columns = [col for col in list(df_train) if col!='credit']\n",
    "    X,y = df_train[features_columns], df_train[TARGET]    \n",
    "    P,P_y = df_val[features_columns], df_val[TARGET]\n",
    "    \n",
    "    tt_df = df_val[[TARGET]]        \n",
    "    y_preds = np.zeros((df_val.shape[0],3))\n",
    "    \n",
    "    tr_data = lgb.Dataset(X, label=y)\n",
    "    vl_data = lgb.Dataset(P, label=P_y) \n",
    "    estimator = lgb.train(\n",
    "            lgb_params,\n",
    "            tr_data,\n",
    "            valid_sets = [tr_data, vl_data],\n",
    "            verbose_eval = 100,\n",
    "        )\n",
    "    y_preds += estimator.predict(P)\n",
    "    feature_imp = pd.DataFrame(sorted(zip(estimator.feature_importance(),X.columns)), columns=['Value','Feature'])\n",
    "    \n",
    "    m_results = []\n",
    "    print('#'*20)\n",
    "\n",
    "    \n",
    "    g_logloss = log_loss(tt_df[TARGET], y_preds)\n",
    "    score_diff = g_logloss - old_score\n",
    "    print('Global log loss', g_logloss)\n",
    "    m_results.append(g_logloss)\n",
    "    \n",
    "    print('#'*20)\n",
    "    print('Features Preformance:', g_logloss)\n",
    "    print('Diff with previous__:', score_diff)\n",
    "    \n",
    "    return tt_df, feature_imp, m_results, estimator ,g_logloss"
   ]
  },
  {
   "cell_type": "code",
   "execution_count": 19,
   "metadata": {},
   "outputs": [],
   "source": [
    "###### Model params\n",
    "lgb_params = {\n",
    "                    'objective':'multiclass',\n",
    "                    'num_class': 3,\n",
    "                    'boosting_type':'gbdt',\n",
    "                    'metric':'multi_logloss',\n",
    "                    'n_jobs':-1,\n",
    "                    'learning_rate':0.01,\n",
    "                    'num_leaves': 256,\n",
    "                    'max_depth':-1,\n",
    "                    'tree_learner':'serial',\n",
    "                    \"min_child_weight\": 0.01,\n",
    "                    'colsample_bytree': 0.8,\n",
    "                    'subsample_freq':1,\n",
    "                    'subsample':0.8,\n",
    "                    'n_estimators':100000,\n",
    "                    'max_bin':800,\n",
    "                    'verbose':-1,\n",
    "                    'seed': SEED,\n",
    "                    'early_stopping_rounds':500, \n",
    "                } "
   ]
  },
  {
   "cell_type": "markdown",
   "metadata": {},
   "source": [
    "## Start FE"
   ]
  },
  {
   "cell_type": "code",
   "execution_count": 20,
   "metadata": {
    "scrolled": true
   },
   "outputs": [
    {
     "name": "stdout",
     "output_type": "stream",
     "text": [
      "Training until validation scores don't improve for 500 rounds\n",
      "[100]\ttraining's multi_logloss: 0.657041\tvalid_1's multi_logloss: 0.767871\n",
      "[200]\ttraining's multi_logloss: 0.545637\tvalid_1's multi_logloss: 0.735907\n",
      "[300]\ttraining's multi_logloss: 0.4716\tvalid_1's multi_logloss: 0.724456\n",
      "[400]\ttraining's multi_logloss: 0.415554\tvalid_1's multi_logloss: 0.722505\n",
      "[500]\ttraining's multi_logloss: 0.370558\tvalid_1's multi_logloss: 0.725578\n",
      "[600]\ttraining's multi_logloss: 0.333186\tvalid_1's multi_logloss: 0.731287\n",
      "[700]\ttraining's multi_logloss: 0.301629\tvalid_1's multi_logloss: 0.738745\n",
      "[800]\ttraining's multi_logloss: 0.274455\tvalid_1's multi_logloss: 0.748347\n",
      "Early stopping, best iteration is:\n",
      "[381]\ttraining's multi_logloss: 0.425216\tvalid_1's multi_logloss: 0.72206\n",
      "####################\n",
      "Global log loss 0.722059670075446\n",
      "####################\n",
      "Features Preformance: 0.722059670075446\n",
      "Diff with previous__: 0.722059670075446\n"
     ]
    }
   ],
   "source": [
    "tt_df, feature_imp, m_results, model ,g_logloss= make_test()"
   ]
  },
  {
   "cell_type": "code",
   "execution_count": 21,
   "metadata": {},
   "outputs": [],
   "source": [
    "best_score = m_results[0]"
   ]
  },
  {
   "cell_type": "code",
   "execution_count": 22,
   "metadata": {},
   "outputs": [],
   "source": [
    "for df in [df_train,df_val]:\n",
    "    df['DAYS_BIRTH_DAYS_EMPLOYED_ratio'] = df['DAYS_BIRTH'] / df['DAYS_EMPLOYED']\n",
    "    df['income_total_DAYS_BIRTH_ratio'] = df['income_total'] / df['DAYS_BIRTH']\n",
    "    df['income_total_DAYS_EMPLOYED_ratio'] = df['income_total'] / df['DAYS_EMPLOYED']\n",
    "    df['parents'] = df['family_size'] - df['child_num']\n",
    "    df['Workingdays'] = df['DAYS_BIRTH'] - df['DAYS_EMPLOYED']\n",
    "    df['income_total_workingday_ratio'] = df['income_total'] / df['Workingdays']\n",
    "    df['income_total_family_size_ratio'] = df['income_total'] / df['family_size']\n",
    "    "
   ]
  },
  {
   "cell_type": "code",
   "execution_count": null,
   "metadata": {
    "scrolled": false
   },
   "outputs": [
    {
     "name": "stdout",
     "output_type": "stream",
     "text": [
      "Training until validation scores don't improve for 500 rounds\n",
      "[100]\ttraining's multi_logloss: 0.646388\tvalid_1's multi_logloss: 0.761592\n",
      "[200]\ttraining's multi_logloss: 0.531828\tvalid_1's multi_logloss: 0.729433\n",
      "[300]\ttraining's multi_logloss: 0.45688\tvalid_1's multi_logloss: 0.719533\n",
      "[400]\ttraining's multi_logloss: 0.400364\tvalid_1's multi_logloss: 0.719329\n",
      "[500]\ttraining's multi_logloss: 0.355428\tvalid_1's multi_logloss: 0.723388\n",
      "[600]\ttraining's multi_logloss: 0.318552\tvalid_1's multi_logloss: 0.730626\n",
      "[700]\ttraining's multi_logloss: 0.287375\tvalid_1's multi_logloss: 0.740045\n"
     ]
    }
   ],
   "source": [
    "tt_df, feature_imp, m_results, model ,g_logloss= make_test(best_score)"
   ]
  },
  {
   "cell_type": "code",
   "execution_count": null,
   "metadata": {},
   "outputs": [],
   "source": [
    "best_score = m_results[0]"
   ]
  },
  {
   "cell_type": "code",
   "execution_count": null,
   "metadata": {},
   "outputs": [],
   "source": [
    "for df in [df_train,df_val]:\n",
    "    drop_cols = ['DAYS_BIRTH','DAYS_EMPLOYED','income_total','family_size','child_num','Workingdays']\n",
    "    df.drop(drop_cols, axis=1, inplace=True)"
   ]
  },
  {
   "cell_type": "code",
   "execution_count": null,
   "metadata": {},
   "outputs": [],
   "source": [
    "tt_df, feature_imp, m_results, model ,g_logloss= make_test(best_score)\n",
    "best_score = m_results[0]"
   ]
  },
  {
   "cell_type": "code",
   "execution_count": null,
   "metadata": {},
   "outputs": [],
   "source": [
    "train_enc.describe()"
   ]
  },
  {
   "cell_type": "code",
   "execution_count": null,
   "metadata": {},
   "outputs": [],
   "source": [
    "train_enc.child_num.value_counts()"
   ]
  },
  {
   "cell_type": "code",
   "execution_count": null,
   "metadata": {},
   "outputs": [],
   "source": []
  },
  {
   "cell_type": "code",
   "execution_count": null,
   "metadata": {},
   "outputs": [],
   "source": []
  },
  {
   "cell_type": "code",
   "execution_count": null,
   "metadata": {},
   "outputs": [],
   "source": [
    "for df in [df_train,df_val]:\n",
    "    df['DAYS_BIRTH_DAYS_EMPLOYED_ratio'] = df['DAYS_BIRTH'] / df['DAYS_EMPLOYED']"
   ]
  },
  {
   "cell_type": "code",
   "execution_count": null,
   "metadata": {
    "scrolled": true
   },
   "outputs": [],
   "source": [
    "tt_df, feature_imp, m_results, model ,g_logloss= make_test(best_score)"
   ]
  },
  {
   "cell_type": "code",
   "execution_count": null,
   "metadata": {},
   "outputs": [],
   "source": [
    "for df in [df_train,df_val]:\n",
    "    df['income_total_DAYS_BIRTH_ratio'] = df['income_total'] / df['DAYS_BIRTH']"
   ]
  },
  {
   "cell_type": "code",
   "execution_count": null,
   "metadata": {},
   "outputs": [],
   "source": [
    "tt_df, feature_imp, m_results, model ,g_logloss= make_test(best_score)"
   ]
  },
  {
   "cell_type": "code",
   "execution_count": null,
   "metadata": {},
   "outputs": [],
   "source": [
    "best_score = m_results[0]"
   ]
  },
  {
   "cell_type": "code",
   "execution_count": null,
   "metadata": {},
   "outputs": [],
   "source": [
    "for df in [df_train,df_val]:\n",
    "    df['income_total_DAYS_EMPLOYED_ratio'] = df['income_total'] / df['DAYS_EMPLOYED']"
   ]
  },
  {
   "cell_type": "code",
   "execution_count": null,
   "metadata": {},
   "outputs": [],
   "source": [
    "tt_df, feature_imp, m_results, model ,g_logloss= make_test(best_score)"
   ]
  },
  {
   "cell_type": "code",
   "execution_count": null,
   "metadata": {},
   "outputs": [],
   "source": [
    "best_score = m_results[0]"
   ]
  },
  {
   "cell_type": "code",
   "execution_count": null,
   "metadata": {},
   "outputs": [],
   "source": [
    "for df in [df_train,df_val]:\n",
    "    df['income_total_family_size_ratio'] = df['income_total'] / df['family_size']"
   ]
  },
  {
   "cell_type": "code",
   "execution_count": null,
   "metadata": {
    "scrolled": true
   },
   "outputs": [],
   "source": [
    "tt_df, feature_imp, m_results, model ,g_logloss= make_test(best_score)"
   ]
  },
  {
   "cell_type": "code",
   "execution_count": null,
   "metadata": {},
   "outputs": [],
   "source": [
    "for df in [df_train,df_val]:\n",
    "    df['parents'] = df['family_size'] - df['child_num']"
   ]
  },
  {
   "cell_type": "code",
   "execution_count": null,
   "metadata": {},
   "outputs": [],
   "source": [
    "tt_df, feature_imp, m_results, model ,g_logloss= make_test(best_score)"
   ]
  },
  {
   "cell_type": "code",
   "execution_count": null,
   "metadata": {},
   "outputs": [],
   "source": [
    "best_score = m_results[0]"
   ]
  },
  {
   "cell_type": "code",
   "execution_count": null,
   "metadata": {},
   "outputs": [],
   "source": [
    "for df in [df_train,df_val]:\n",
    "    df['income_total_workingday_ratio'] = df['income_total'] / (df['DAYS_BIRTH'] - df['DAYS_EMPLOYED'])"
   ]
  },
  {
   "cell_type": "code",
   "execution_count": null,
   "metadata": {
    "scrolled": true
   },
   "outputs": [],
   "source": [
    "tt_df, feature_imp, m_results, model ,g_logloss= make_test(best_score)"
   ]
  }
 ],
 "metadata": {
  "kernelspec": {
   "display_name": "Python 3",
   "language": "python",
   "name": "python3"
  },
  "language_info": {
   "codemirror_mode": {
    "name": "ipython",
    "version": 3
   },
   "file_extension": ".py",
   "mimetype": "text/x-python",
   "name": "python",
   "nbconvert_exporter": "python",
   "pygments_lexer": "ipython3",
   "version": "3.8.8"
  }
 },
 "nbformat": 4,
 "nbformat_minor": 4
}
